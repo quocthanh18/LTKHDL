{
 "cells": [
  {
   "cell_type": "markdown",
   "metadata": {},
   "source": [
    "## Import"
   ]
  },
  {
   "cell_type": "code",
   "execution_count": 1,
   "metadata": {},
   "outputs": [],
   "source": [
    "# import libraries\n",
    "import numpy as np\n",
    "import pandas as pd\n",
    "import matplotlib.pyplot as plt\n"
   ]
  },
  {
   "cell_type": "markdown",
   "metadata": {},
   "source": [
    "## Exploring data"
   ]
  },
  {
   "cell_type": "code",
   "execution_count": null,
   "metadata": {},
   "outputs": [],
   "source": []
  },
  {
   "cell_type": "markdown",
   "metadata": {},
   "source": [
    "### Read raw data from file"
   ]
  },
  {
   "cell_type": "code",
   "execution_count": 2,
   "metadata": {},
   "outputs": [],
   "source": [
    "# Read data from CSV file\n",
    "movie_df = pd.read_csv('../data/raw/data.csv')\n"
   ]
  },
  {
   "cell_type": "code",
   "execution_count": 3,
   "metadata": {},
   "outputs": [
    {
     "data": {
      "text/html": [
       "<div>\n",
       "<style scoped>\n",
       "    .dataframe tbody tr th:only-of-type {\n",
       "        vertical-align: middle;\n",
       "    }\n",
       "\n",
       "    .dataframe tbody tr th {\n",
       "        vertical-align: top;\n",
       "    }\n",
       "\n",
       "    .dataframe thead th {\n",
       "        text-align: right;\n",
       "    }\n",
       "</style>\n",
       "<table border=\"1\" class=\"dataframe\">\n",
       "  <thead>\n",
       "    <tr style=\"text-align: right;\">\n",
       "      <th></th>\n",
       "      <th>show_id</th>\n",
       "      <th>type</th>\n",
       "      <th>title</th>\n",
       "      <th>director</th>\n",
       "      <th>cast</th>\n",
       "      <th>country</th>\n",
       "      <th>date_added</th>\n",
       "      <th>release_year</th>\n",
       "      <th>rating</th>\n",
       "      <th>duration</th>\n",
       "      <th>listed_in</th>\n",
       "      <th>description</th>\n",
       "    </tr>\n",
       "  </thead>\n",
       "  <tbody>\n",
       "    <tr>\n",
       "      <th>0</th>\n",
       "      <td>s1</td>\n",
       "      <td>Movie</td>\n",
       "      <td>Dick Johnson Is Dead</td>\n",
       "      <td>Kirsten Johnson</td>\n",
       "      <td>NaN</td>\n",
       "      <td>United States</td>\n",
       "      <td>September 25, 2021</td>\n",
       "      <td>2020</td>\n",
       "      <td>PG-13</td>\n",
       "      <td>90 min</td>\n",
       "      <td>Documentaries</td>\n",
       "      <td>As her father nears the end of his life, filmm...</td>\n",
       "    </tr>\n",
       "    <tr>\n",
       "      <th>1</th>\n",
       "      <td>s2</td>\n",
       "      <td>TV Show</td>\n",
       "      <td>Blood &amp; Water</td>\n",
       "      <td>NaN</td>\n",
       "      <td>Ama Qamata, Khosi Ngema, Gail Mabalane, Thaban...</td>\n",
       "      <td>South Africa</td>\n",
       "      <td>September 24, 2021</td>\n",
       "      <td>2021</td>\n",
       "      <td>TV-MA</td>\n",
       "      <td>2 Seasons</td>\n",
       "      <td>International TV Shows, TV Dramas, TV Mysteries</td>\n",
       "      <td>After crossing paths at a party, a Cape Town t...</td>\n",
       "    </tr>\n",
       "    <tr>\n",
       "      <th>2</th>\n",
       "      <td>s3</td>\n",
       "      <td>TV Show</td>\n",
       "      <td>Ganglands</td>\n",
       "      <td>Julien Leclercq</td>\n",
       "      <td>Sami Bouajila, Tracy Gotoas, Samuel Jouy, Nabi...</td>\n",
       "      <td>NaN</td>\n",
       "      <td>September 24, 2021</td>\n",
       "      <td>2021</td>\n",
       "      <td>TV-MA</td>\n",
       "      <td>1 Season</td>\n",
       "      <td>Crime TV Shows, International TV Shows, TV Act...</td>\n",
       "      <td>To protect his family from a powerful drug lor...</td>\n",
       "    </tr>\n",
       "    <tr>\n",
       "      <th>3</th>\n",
       "      <td>s4</td>\n",
       "      <td>TV Show</td>\n",
       "      <td>Jailbirds New Orleans</td>\n",
       "      <td>NaN</td>\n",
       "      <td>NaN</td>\n",
       "      <td>NaN</td>\n",
       "      <td>September 24, 2021</td>\n",
       "      <td>2021</td>\n",
       "      <td>TV-MA</td>\n",
       "      <td>1 Season</td>\n",
       "      <td>Docuseries, Reality TV</td>\n",
       "      <td>Feuds, flirtations and toilet talk go down amo...</td>\n",
       "    </tr>\n",
       "    <tr>\n",
       "      <th>4</th>\n",
       "      <td>s5</td>\n",
       "      <td>TV Show</td>\n",
       "      <td>Kota Factory</td>\n",
       "      <td>NaN</td>\n",
       "      <td>Mayur More, Jitendra Kumar, Ranjan Raj, Alam K...</td>\n",
       "      <td>India</td>\n",
       "      <td>September 24, 2021</td>\n",
       "      <td>2021</td>\n",
       "      <td>TV-MA</td>\n",
       "      <td>2 Seasons</td>\n",
       "      <td>International TV Shows, Romantic TV Shows, TV ...</td>\n",
       "      <td>In a city of coaching centers known to train I...</td>\n",
       "    </tr>\n",
       "  </tbody>\n",
       "</table>\n",
       "</div>"
      ],
      "text/plain": [
       "  show_id     type                  title         director  \\\n",
       "0      s1    Movie   Dick Johnson Is Dead  Kirsten Johnson   \n",
       "1      s2  TV Show          Blood & Water              NaN   \n",
       "2      s3  TV Show              Ganglands  Julien Leclercq   \n",
       "3      s4  TV Show  Jailbirds New Orleans              NaN   \n",
       "4      s5  TV Show           Kota Factory              NaN   \n",
       "\n",
       "                                                cast        country  \\\n",
       "0                                                NaN  United States   \n",
       "1  Ama Qamata, Khosi Ngema, Gail Mabalane, Thaban...   South Africa   \n",
       "2  Sami Bouajila, Tracy Gotoas, Samuel Jouy, Nabi...            NaN   \n",
       "3                                                NaN            NaN   \n",
       "4  Mayur More, Jitendra Kumar, Ranjan Raj, Alam K...          India   \n",
       "\n",
       "           date_added  release_year rating   duration  \\\n",
       "0  September 25, 2021          2020  PG-13     90 min   \n",
       "1  September 24, 2021          2021  TV-MA  2 Seasons   \n",
       "2  September 24, 2021          2021  TV-MA   1 Season   \n",
       "3  September 24, 2021          2021  TV-MA   1 Season   \n",
       "4  September 24, 2021          2021  TV-MA  2 Seasons   \n",
       "\n",
       "                                           listed_in  \\\n",
       "0                                      Documentaries   \n",
       "1    International TV Shows, TV Dramas, TV Mysteries   \n",
       "2  Crime TV Shows, International TV Shows, TV Act...   \n",
       "3                             Docuseries, Reality TV   \n",
       "4  International TV Shows, Romantic TV Shows, TV ...   \n",
       "\n",
       "                                         description  \n",
       "0  As her father nears the end of his life, filmm...  \n",
       "1  After crossing paths at a party, a Cape Town t...  \n",
       "2  To protect his family from a powerful drug lor...  \n",
       "3  Feuds, flirtations and toilet talk go down amo...  \n",
       "4  In a city of coaching centers known to train I...  "
      ]
     },
     "execution_count": 3,
     "metadata": {},
     "output_type": "execute_result"
    }
   ],
   "source": [
    "# Display the first 5 lines of data\n",
    "movie_df.head()"
   ]
  },
  {
   "cell_type": "markdown",
   "metadata": {},
   "source": [
    "### How many rows and how many columns does the raw data have?"
   ]
  },
  {
   "cell_type": "code",
   "execution_count": 4,
   "metadata": {},
   "outputs": [
    {
     "data": {
      "text/plain": [
       "(8807, 12)"
      ]
     },
     "execution_count": 4,
     "metadata": {},
     "output_type": "execute_result"
    }
   ],
   "source": [
    "n_rows, n_cols = movie_df.shape\n",
    "\n",
    "n_rows, n_cols"
   ]
  },
  {
   "cell_type": "markdown",
   "metadata": {},
   "source": [
    "### What is the meaning of each row?"
   ]
  },
  {
   "cell_type": "markdown",
   "metadata": {},
   "source": [
    "- Each row represents information about a movie/ tv show on Netflix"
   ]
  },
  {
   "cell_type": "markdown",
   "metadata": {},
   "source": [
    "### Are there duplicated rows?"
   ]
  },
  {
   "cell_type": "code",
   "execution_count": 5,
   "metadata": {},
   "outputs": [
    {
     "data": {
      "text/plain": [
       "False"
      ]
     },
     "execution_count": 5,
     "metadata": {},
     "output_type": "execute_result"
    }
   ],
   "source": [
    "# Check for duplicate rows\n",
    "is_duplicate = movie_df.duplicated().all()\n",
    "\n",
    "is_duplicate"
   ]
  },
  {
   "cell_type": "code",
   "execution_count": 6,
   "metadata": {},
   "outputs": [],
   "source": [
    "if is_duplicate == True:\n",
    "    movie_df.drop_duplicates(inplace=True)"
   ]
  },
  {
   "cell_type": "markdown",
   "metadata": {},
   "source": [
    "### What is the meaning of each column?"
   ]
  },
  {
   "cell_type": "markdown",
   "metadata": {},
   "source": [
    "- show_id : Unique ID for each movie/ tv show \n",
    "- type : Type of the movie/ tv show (Movie or TV Show) \n",
    "- title : Title of the movie/ tv show \n",
    "- director : Director of the movie/ tv show \n",
    "- cast : Cast of the movie/ tv show \n",
    "- country : Country where the movie/ tv show was produced \n",
    "- date_added : Date when the movie/ tv show was added to Netflix \n",
    "- release_year : Year when the movie/ tv show was released \n",
    "- rating : Rating of the movie/ tv show \n",
    "- duration : Duration of the movie/ tv show \n",
    "- listed_in : Genre of the movie/ tv show \n",
    "- description : Description of the movie/ tv show \n"
   ]
  },
  {
   "cell_type": "code",
   "execution_count": null,
   "metadata": {},
   "outputs": [],
   "source": []
  },
  {
   "cell_type": "markdown",
   "metadata": {},
   "source": []
  },
  {
   "cell_type": "markdown",
   "metadata": {},
   "source": [
    "### What is the current data type of each column? Are there columns having inappropriate data types?\n"
   ]
  },
  {
   "cell_type": "code",
   "execution_count": 7,
   "metadata": {},
   "outputs": [
    {
     "name": "stdout",
     "output_type": "stream",
     "text": [
      "<class 'pandas.core.frame.DataFrame'>\n",
      "RangeIndex: 8807 entries, 0 to 8806\n",
      "Data columns (total 12 columns):\n",
      " #   Column        Non-Null Count  Dtype \n",
      "---  ------        --------------  ----- \n",
      " 0   show_id       8807 non-null   object\n",
      " 1   type          8807 non-null   object\n",
      " 2   title         8807 non-null   object\n",
      " 3   director      6173 non-null   object\n",
      " 4   cast          7982 non-null   object\n",
      " 5   country       7976 non-null   object\n",
      " 6   date_added    8797 non-null   object\n",
      " 7   release_year  8807 non-null   int64 \n",
      " 8   rating        8803 non-null   object\n",
      " 9   duration      8804 non-null   object\n",
      " 10  listed_in     8807 non-null   object\n",
      " 11  description   8807 non-null   object\n",
      "dtypes: int64(1), object(11)\n",
      "memory usage: 825.8+ KB\n"
     ]
    }
   ],
   "source": [
    "movie_df.info()"
   ]
  },
  {
   "cell_type": "code",
   "execution_count": 8,
   "metadata": {},
   "outputs": [],
   "source": [
    "# Chuyển cột 'date_added' thành kiểu datetime\n",
    "movie_df['date_added'] = pd.to_datetime(movie_df['date_added'], errors='coerce')"
   ]
  },
  {
   "cell_type": "markdown",
   "metadata": {},
   "source": [
    "### With each numerical column, how are values distributed?"
   ]
  },
  {
   "cell_type": "code",
   "execution_count": 9,
   "metadata": {},
   "outputs": [
    {
     "data": {
      "text/html": [
       "<div>\n",
       "<style scoped>\n",
       "    .dataframe tbody tr th:only-of-type {\n",
       "        vertical-align: middle;\n",
       "    }\n",
       "\n",
       "    .dataframe tbody tr th {\n",
       "        vertical-align: top;\n",
       "    }\n",
       "\n",
       "    .dataframe thead th {\n",
       "        text-align: right;\n",
       "    }\n",
       "</style>\n",
       "<table border=\"1\" class=\"dataframe\">\n",
       "  <thead>\n",
       "    <tr style=\"text-align: right;\">\n",
       "      <th></th>\n",
       "      <th>date_added</th>\n",
       "      <th>release_year</th>\n",
       "    </tr>\n",
       "  </thead>\n",
       "  <tbody>\n",
       "    <tr>\n",
       "      <th>missing_ratio</th>\n",
       "      <td>1.11</td>\n",
       "      <td>0.0</td>\n",
       "    </tr>\n",
       "    <tr>\n",
       "      <th>min</th>\n",
       "      <td>2008-01-01 00:00:00</td>\n",
       "      <td>1925.0</td>\n",
       "    </tr>\n",
       "    <tr>\n",
       "      <th>max</th>\n",
       "      <td>2021-09-25 00:00:00</td>\n",
       "      <td>2021.0</td>\n",
       "    </tr>\n",
       "  </tbody>\n",
       "</table>\n",
       "</div>"
      ],
      "text/plain": [
       "                        date_added  release_year\n",
       "missing_ratio                 1.11           0.0\n",
       "min            2008-01-01 00:00:00        1925.0\n",
       "max            2021-09-25 00:00:00        2021.0"
      ]
     },
     "execution_count": 9,
     "metadata": {},
     "output_type": "execute_result"
    }
   ],
   "source": [
    "num_col_info_df = movie_df.select_dtypes(exclude='object')\n",
    "\n",
    "def missing_ratio(s):\n",
    "    return (s.isna().mean() * 100).round(2)\n",
    "    # raise NotImplementedError()\n",
    "\n",
    "num_col_info_df = num_col_info_df.agg([missing_ratio, \"min\", \"max\"])\n",
    "num_col_info_df"
   ]
  },
  {
   "cell_type": "markdown",
   "metadata": {},
   "source": [
    "### With each categorical column, how are values distributed?"
   ]
  },
  {
   "cell_type": "code",
   "execution_count": 10,
   "metadata": {},
   "outputs": [
    {
     "data": {
      "text/html": [
       "<div>\n",
       "<style scoped>\n",
       "    .dataframe tbody tr th:only-of-type {\n",
       "        vertical-align: middle;\n",
       "    }\n",
       "\n",
       "    .dataframe tbody tr th {\n",
       "        vertical-align: top;\n",
       "    }\n",
       "\n",
       "    .dataframe thead th {\n",
       "        text-align: right;\n",
       "    }\n",
       "</style>\n",
       "<table border=\"1\" class=\"dataframe\">\n",
       "  <thead>\n",
       "    <tr style=\"text-align: right;\">\n",
       "      <th></th>\n",
       "      <th>Column</th>\n",
       "      <th>Number of Unique Values</th>\n",
       "      <th>Missing Ratio</th>\n",
       "      <th>Sample Values</th>\n",
       "    </tr>\n",
       "  </thead>\n",
       "  <tbody>\n",
       "    <tr>\n",
       "      <th>0</th>\n",
       "      <td>show_id</td>\n",
       "      <td>8807</td>\n",
       "      <td>0.00</td>\n",
       "      <td>[s1, s2, s3, s4, s5]</td>\n",
       "    </tr>\n",
       "    <tr>\n",
       "      <th>1</th>\n",
       "      <td>type</td>\n",
       "      <td>2</td>\n",
       "      <td>0.00</td>\n",
       "      <td>[Movie, TV Show]</td>\n",
       "    </tr>\n",
       "    <tr>\n",
       "      <th>2</th>\n",
       "      <td>title</td>\n",
       "      <td>8807</td>\n",
       "      <td>0.00</td>\n",
       "      <td>[Dick Johnson Is Dead, Blood &amp; Water, Gangland...</td>\n",
       "    </tr>\n",
       "    <tr>\n",
       "      <th>3</th>\n",
       "      <td>director</td>\n",
       "      <td>4528</td>\n",
       "      <td>29.91</td>\n",
       "      <td>[Kirsten Johnson, nan, Julien Leclercq, Mike F...</td>\n",
       "    </tr>\n",
       "    <tr>\n",
       "      <th>4</th>\n",
       "      <td>cast</td>\n",
       "      <td>7692</td>\n",
       "      <td>9.37</td>\n",
       "      <td>[nan, Ama Qamata, Khosi Ngema, Gail Mabalane, ...</td>\n",
       "    </tr>\n",
       "    <tr>\n",
       "      <th>5</th>\n",
       "      <td>country</td>\n",
       "      <td>748</td>\n",
       "      <td>9.44</td>\n",
       "      <td>[United States, South Africa, nan, India, Unit...</td>\n",
       "    </tr>\n",
       "    <tr>\n",
       "      <th>6</th>\n",
       "      <td>rating</td>\n",
       "      <td>17</td>\n",
       "      <td>0.05</td>\n",
       "      <td>[PG-13, TV-MA, PG, TV-14, TV-PG]</td>\n",
       "    </tr>\n",
       "    <tr>\n",
       "      <th>7</th>\n",
       "      <td>duration</td>\n",
       "      <td>220</td>\n",
       "      <td>0.03</td>\n",
       "      <td>[90 min, 2 Seasons, 1 Season, 91 min, 125 min]</td>\n",
       "    </tr>\n",
       "    <tr>\n",
       "      <th>8</th>\n",
       "      <td>listed_in</td>\n",
       "      <td>514</td>\n",
       "      <td>0.00</td>\n",
       "      <td>[Documentaries, International TV Shows, TV Dra...</td>\n",
       "    </tr>\n",
       "    <tr>\n",
       "      <th>9</th>\n",
       "      <td>description</td>\n",
       "      <td>8775</td>\n",
       "      <td>0.00</td>\n",
       "      <td>[As her father nears the end of his life, film...</td>\n",
       "    </tr>\n",
       "  </tbody>\n",
       "</table>\n",
       "</div>"
      ],
      "text/plain": [
       "        Column  Number of Unique Values  Missing Ratio  \\\n",
       "0      show_id                     8807           0.00   \n",
       "1         type                        2           0.00   \n",
       "2        title                     8807           0.00   \n",
       "3     director                     4528          29.91   \n",
       "4         cast                     7692           9.37   \n",
       "5      country                      748           9.44   \n",
       "6       rating                       17           0.05   \n",
       "7     duration                      220           0.03   \n",
       "8    listed_in                      514           0.00   \n",
       "9  description                     8775           0.00   \n",
       "\n",
       "                                       Sample Values  \n",
       "0                               [s1, s2, s3, s4, s5]  \n",
       "1                                   [Movie, TV Show]  \n",
       "2  [Dick Johnson Is Dead, Blood & Water, Gangland...  \n",
       "3  [Kirsten Johnson, nan, Julien Leclercq, Mike F...  \n",
       "4  [nan, Ama Qamata, Khosi Ngema, Gail Mabalane, ...  \n",
       "5  [United States, South Africa, nan, India, Unit...  \n",
       "6                   [PG-13, TV-MA, PG, TV-14, TV-PG]  \n",
       "7     [90 min, 2 Seasons, 1 Season, 91 min, 125 min]  \n",
       "8  [Documentaries, International TV Shows, TV Dra...  \n",
       "9  [As her father nears the end of his life, film...  "
      ]
     },
     "execution_count": 10,
     "metadata": {},
     "output_type": "execute_result"
    }
   ],
   "source": [
    "cate_col_info_df = movie_df.select_dtypes(include='object')\n",
    "\n",
    "# Create an empty DataFrame to store the summary information\n",
    "summary_df = pd.DataFrame(columns=['Column', 'Number of Unique Values', 'Missing Ratio', 'Sample Values'])\n",
    "\n",
    "# Display distribution, missing values, and unique values for each categorical column\n",
    "for column in cate_col_info_df.columns:\n",
    "    unique_values = cate_col_info_df[column].nunique()\n",
    "    missing_values = missing_ratio(cate_col_info_df[column])\n",
    "    \n",
    "    sample_values = cate_col_info_df[column].unique()[:5]\n",
    "    \n",
    "    \n",
    "    # Use loc to add rows to the summary DataFrame\n",
    "    summary_df.loc[len(summary_df)] = [column, unique_values, missing_values, sample_values]\n",
    "\n",
    "# Display the summary DataFrame\n",
    "summary_df\n"
   ]
  },
  {
   "cell_type": "code",
   "execution_count": 11,
   "metadata": {},
   "outputs": [
    {
     "name": "stdout",
     "output_type": "stream",
     "text": [
      "<class 'pandas.core.frame.DataFrame'>\n",
      "Index: 8705 entries, 0 to 8806\n",
      "Data columns (total 12 columns):\n",
      " #   Column        Non-Null Count  Dtype         \n",
      "---  ------        --------------  -----         \n",
      " 0   show_id       8705 non-null   object        \n",
      " 1   type          8705 non-null   object        \n",
      " 2   title         8705 non-null   object        \n",
      " 3   director      8705 non-null   object        \n",
      " 4   cast          8705 non-null   object        \n",
      " 5   country       8705 non-null   object        \n",
      " 6   date_added    8705 non-null   datetime64[ns]\n",
      " 7   release_year  8705 non-null   int64         \n",
      " 8   rating        8705 non-null   object        \n",
      " 9   duration      8705 non-null   object        \n",
      " 10  listed_in     8705 non-null   object        \n",
      " 11  description   8705 non-null   object        \n",
      "dtypes: datetime64[ns](1), int64(1), object(10)\n",
      "memory usage: 884.1+ KB\n"
     ]
    }
   ],
   "source": [
    "## Drop NaN\n",
    "movie_df.dropna(inplace=True,axis=0,subset=['date_added','rating'])\n",
    "\n",
    "\n",
    "movie_df['director'] = movie_df['director'].fillna('Unknown')\n",
    "movie_df['country'] = movie_df['country'].fillna('Unknown')\n",
    "movie_df['cast'] = movie_df['cast'].fillna('Unknown')\n",
    "movie_df['rating'] = movie_df['rating'].fillna('Unknown')\n",
    "movie_df['duration' ]= movie_df['duration'].fillna('Unknown')\n",
    "\n",
    "movie_df.info()"
   ]
  },
  {
   "cell_type": "markdown",
   "metadata": {},
   "source": [
    "### Save to processed.csv"
   ]
  },
  {
   "cell_type": "code",
   "execution_count": 13,
   "metadata": {},
   "outputs": [],
   "source": [
    "movie_df.to_csv(\"../data/processed/data.csv\",sep = ',', encoding= 'utf-8', index=False) "
   ]
  }
 ],
 "metadata": {
  "kernelspec": {
   "display_name": "Python 3 (ipykernel)",
   "language": "python",
   "name": "python3"
  },
  "language_info": {
   "codemirror_mode": {
    "name": "ipython",
    "version": 3
   },
   "file_extension": ".py",
   "mimetype": "text/x-python",
   "name": "python",
   "nbconvert_exporter": "python",
   "pygments_lexer": "ipython3",
   "version": "3.9.18"
  }
 },
 "nbformat": 4,
 "nbformat_minor": 4
}
