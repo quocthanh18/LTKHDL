{
 "cells": [
  {
   "cell_type": "markdown",
   "metadata": {},
   "source": [
    "## Import"
   ]
  },
  {
   "cell_type": "code",
   "execution_count": 15,
   "metadata": {},
   "outputs": [],
   "source": [
    "import numpy as np\n",
    "import pandas as pd"
   ]
  },
  {
   "cell_type": "markdown",
   "metadata": {},
   "source": [
    "## Exploring data"
   ]
  },
  {
   "cell_type": "markdown",
   "metadata": {},
   "source": [
    "### Read raw data from file"
   ]
  },
  {
   "cell_type": "code",
   "execution_count": 16,
   "metadata": {},
   "outputs": [],
   "source": [
    "raw_df = pd.read_csv(\"../data/raw/data.csv\")"
   ]
  },
  {
   "cell_type": "code",
   "execution_count": 17,
   "metadata": {},
   "outputs": [
    {
     "data": {
      "text/html": [
       "<div>\n",
       "<style scoped>\n",
       "    .dataframe tbody tr th:only-of-type {\n",
       "        vertical-align: middle;\n",
       "    }\n",
       "\n",
       "    .dataframe tbody tr th {\n",
       "        vertical-align: top;\n",
       "    }\n",
       "\n",
       "    .dataframe thead th {\n",
       "        text-align: right;\n",
       "    }\n",
       "</style>\n",
       "<table border=\"1\" class=\"dataframe\">\n",
       "  <thead>\n",
       "    <tr style=\"text-align: right;\">\n",
       "      <th></th>\n",
       "      <th>show_id</th>\n",
       "      <th>type</th>\n",
       "      <th>title</th>\n",
       "      <th>director</th>\n",
       "      <th>cast</th>\n",
       "      <th>country</th>\n",
       "      <th>date_added</th>\n",
       "      <th>release_year</th>\n",
       "      <th>rating</th>\n",
       "      <th>duration</th>\n",
       "      <th>listed_in</th>\n",
       "      <th>description</th>\n",
       "    </tr>\n",
       "  </thead>\n",
       "  <tbody>\n",
       "    <tr>\n",
       "      <th>7689</th>\n",
       "      <td>s7690</td>\n",
       "      <td>TV Show</td>\n",
       "      <td>P. King Duckling</td>\n",
       "      <td>NaN</td>\n",
       "      <td>Marc Thompson, Benjie Randall, Courtney Shaw</td>\n",
       "      <td>United States</td>\n",
       "      <td>November 7, 2017</td>\n",
       "      <td>2016</td>\n",
       "      <td>TV-Y</td>\n",
       "      <td>1 Season</td>\n",
       "      <td>Kids' TV, TV Comedies</td>\n",
       "      <td>P. King, the daring but hapless duck, teams up...</td>\n",
       "    </tr>\n",
       "    <tr>\n",
       "      <th>7847</th>\n",
       "      <td>s7848</td>\n",
       "      <td>TV Show</td>\n",
       "      <td>Red vs. Blue</td>\n",
       "      <td>NaN</td>\n",
       "      <td>Burnie Burns, Jason Saldaña, Gustavo Sorola, G...</td>\n",
       "      <td>United States</td>\n",
       "      <td>NaN</td>\n",
       "      <td>2015</td>\n",
       "      <td>NR</td>\n",
       "      <td>13 Seasons</td>\n",
       "      <td>TV Action &amp; Adventure, TV Comedies, TV Sci-Fi ...</td>\n",
       "      <td>This parody of first-person shooter games, mil...</td>\n",
       "    </tr>\n",
       "    <tr>\n",
       "      <th>7272</th>\n",
       "      <td>s7273</td>\n",
       "      <td>Movie</td>\n",
       "      <td>Le K Benzema</td>\n",
       "      <td>Damien Piscarel, Florent Bodin</td>\n",
       "      <td>Karim Benzema</td>\n",
       "      <td>France</td>\n",
       "      <td>May 1, 2018</td>\n",
       "      <td>2017</td>\n",
       "      <td>TV-14</td>\n",
       "      <td>121 min</td>\n",
       "      <td>Documentaries, International Movies, Sports Mo...</td>\n",
       "      <td>After a blackmailing scandal and being sidelin...</td>\n",
       "    </tr>\n",
       "    <tr>\n",
       "      <th>3144</th>\n",
       "      <td>s3145</td>\n",
       "      <td>Movie</td>\n",
       "      <td>Potato Potahto</td>\n",
       "      <td>Shirley Frimpong-Manso</td>\n",
       "      <td>O.C. Ukeje, Joselyn Dumas, Joke Silva, Blossom...</td>\n",
       "      <td>Ghana</td>\n",
       "      <td>December 15, 2019</td>\n",
       "      <td>2017</td>\n",
       "      <td>TV-MA</td>\n",
       "      <td>104 min</td>\n",
       "      <td>Comedies, Dramas, International Movies</td>\n",
       "      <td>A divorced couple decides to continue sharing ...</td>\n",
       "    </tr>\n",
       "    <tr>\n",
       "      <th>7972</th>\n",
       "      <td>s7973</td>\n",
       "      <td>Movie</td>\n",
       "      <td>Secrets of Henry VIII's Palace: Hampton Court</td>\n",
       "      <td>Sam Taplin</td>\n",
       "      <td>Samuel West</td>\n",
       "      <td>United States</td>\n",
       "      <td>February 22, 2017</td>\n",
       "      <td>2013</td>\n",
       "      <td>TV-PG</td>\n",
       "      <td>54 min</td>\n",
       "      <td>Documentaries, International Movies</td>\n",
       "      <td>The history of this grand 500-year-old palace ...</td>\n",
       "    </tr>\n",
       "  </tbody>\n",
       "</table>\n",
       "</div>"
      ],
      "text/plain": [
       "     show_id     type                                          title  \\\n",
       "7689   s7690  TV Show                               P. King Duckling   \n",
       "7847   s7848  TV Show                                   Red vs. Blue   \n",
       "7272   s7273    Movie                                   Le K Benzema   \n",
       "3144   s3145    Movie                                 Potato Potahto   \n",
       "7972   s7973    Movie  Secrets of Henry VIII's Palace: Hampton Court   \n",
       "\n",
       "                            director  \\\n",
       "7689                             NaN   \n",
       "7847                             NaN   \n",
       "7272  Damien Piscarel, Florent Bodin   \n",
       "3144          Shirley Frimpong-Manso   \n",
       "7972                      Sam Taplin   \n",
       "\n",
       "                                                   cast        country  \\\n",
       "7689       Marc Thompson, Benjie Randall, Courtney Shaw  United States   \n",
       "7847  Burnie Burns, Jason Saldaña, Gustavo Sorola, G...  United States   \n",
       "7272                                      Karim Benzema         France   \n",
       "3144  O.C. Ukeje, Joselyn Dumas, Joke Silva, Blossom...          Ghana   \n",
       "7972                                        Samuel West  United States   \n",
       "\n",
       "             date_added  release_year rating    duration  \\\n",
       "7689   November 7, 2017          2016   TV-Y    1 Season   \n",
       "7847                NaN          2015     NR  13 Seasons   \n",
       "7272        May 1, 2018          2017  TV-14     121 min   \n",
       "3144  December 15, 2019          2017  TV-MA     104 min   \n",
       "7972  February 22, 2017          2013  TV-PG      54 min   \n",
       "\n",
       "                                              listed_in  \\\n",
       "7689                              Kids' TV, TV Comedies   \n",
       "7847  TV Action & Adventure, TV Comedies, TV Sci-Fi ...   \n",
       "7272  Documentaries, International Movies, Sports Mo...   \n",
       "3144             Comedies, Dramas, International Movies   \n",
       "7972                Documentaries, International Movies   \n",
       "\n",
       "                                            description  \n",
       "7689  P. King, the daring but hapless duck, teams up...  \n",
       "7847  This parody of first-person shooter games, mil...  \n",
       "7272  After a blackmailing scandal and being sidelin...  \n",
       "3144  A divorced couple decides to continue sharing ...  \n",
       "7972  The history of this grand 500-year-old palace ...  "
      ]
     },
     "execution_count": 17,
     "metadata": {},
     "output_type": "execute_result"
    }
   ],
   "source": [
    "raw_df.sample(5)"
   ]
  },
  {
   "cell_type": "markdown",
   "metadata": {},
   "source": [
    "We could drop the show_id and description column because they are not useful for our analysis."
   ]
  },
  {
   "cell_type": "code",
   "execution_count": 18,
   "metadata": {},
   "outputs": [],
   "source": [
    "raw_df.drop(columns = ['show_id', 'description'], inplace = True)"
   ]
  },
  {
   "cell_type": "markdown",
   "metadata": {},
   "source": [
    "### How many rows and how many columns does the raw data have?"
   ]
  },
  {
   "cell_type": "code",
   "execution_count": 19,
   "metadata": {},
   "outputs": [
    {
     "name": "stdout",
     "output_type": "stream",
     "text": [
      "Data has 8807 rows and 10 columns\n"
     ]
    }
   ],
   "source": [
    "shape = raw_df.shape\n",
    "print(f\"Data has {shape[0]} rows and {shape[1]} columns\")"
   ]
  },
  {
   "cell_type": "markdown",
   "metadata": {},
   "source": [
    "### What is the meaning of each row?"
   ]
  },
  {
   "cell_type": "markdown",
   "metadata": {},
   "source": [
    "Each row represents information about a movie/ tv show on Netflix from 2008 to mid 2021."
   ]
  },
  {
   "cell_type": "markdown",
   "metadata": {},
   "source": [
    "### Are there duplicated rows?"
   ]
  },
  {
   "cell_type": "code",
   "execution_count": 20,
   "metadata": {},
   "outputs": [
    {
     "name": "stdout",
     "output_type": "stream",
     "text": [
      "Number of duplicate rows: 0\n"
     ]
    }
   ],
   "source": [
    "unique_rows = raw_df.drop_duplicates().shape[0] - shape[0]\n",
    "print(f'Number of duplicate rows: {unique_rows}')"
   ]
  },
  {
   "cell_type": "markdown",
   "metadata": {},
   "source": [
    "### What is the meaning of each column?"
   ]
  },
  {
   "cell_type": "markdown",
   "metadata": {},
   "source": [
    "| Column Name | Description |\n",
    "| --- | --- |\n",
    "| show_id | Unique ID for each movie/ tv show |\n",
    "| type | Type of the movie/ tv show (Movie or TV Show) |\n",
    "| title | Title of the movie/ tv show |\n",
    "| director | Director of the movie/ tv show |\n",
    "| cast | Cast of the movie/ tv show |\n",
    "| country | Country where the movie/ tv show was produced |\n",
    "| date_added | Date when the movie/ tv show was added to Netflix |\n",
    "| release_year | Year when the movie/ tv show was released |\n",
    "| rating | Rating of the movie/ tv show |\n",
    "| duration | Duration of the movie/ tv show |\n",
    "| listed_in | Genre of the movie/ tv show |\n",
    "| description | Description of the movie/ tv show |"
   ]
  },
  {
   "cell_type": "markdown",
   "metadata": {},
   "source": [
    "### What is the current data type of each column? Are there columns having inappropriate data types?\n"
   ]
  },
  {
   "cell_type": "code",
   "execution_count": 21,
   "metadata": {},
   "outputs": [
    {
     "name": "stdout",
     "output_type": "stream",
     "text": [
      "<class 'pandas.core.frame.DataFrame'>\n",
      "RangeIndex: 8807 entries, 0 to 8806\n",
      "Data columns (total 10 columns):\n",
      " #   Column        Non-Null Count  Dtype \n",
      "---  ------        --------------  ----- \n",
      " 0   type          8807 non-null   object\n",
      " 1   title         8807 non-null   object\n",
      " 2   director      6173 non-null   object\n",
      " 3   cast          7982 non-null   object\n",
      " 4   country       7976 non-null   object\n",
      " 5   date_added    8797 non-null   object\n",
      " 6   release_year  8807 non-null   int64 \n",
      " 7   rating        8803 non-null   object\n",
      " 8   duration      8804 non-null   object\n",
      " 9   listed_in     8807 non-null   object\n",
      "dtypes: int64(1), object(9)\n",
      "memory usage: 688.2+ KB\n"
     ]
    }
   ],
   "source": [
    "raw_df.info()"
   ]
  },
  {
   "cell_type": "markdown",
   "metadata": {},
   "source": [
    "We have null values in director, cast, country, date_added, rating and duration columns."
   ]
  },
  {
   "cell_type": "markdown",
   "metadata": {},
   "source": [
    "The reason why we don't want to drop the null values in country column is because it could provide some interesting points."
   ]
  },
  {
   "cell_type": "code",
   "execution_count": 22,
   "metadata": {},
   "outputs": [],
   "source": [
    "raw_df['director'] = raw_df['director'].fillna('Unknown')\n",
    "raw_df['cast'] = raw_df['cast'].fillna('Unknown')\n",
    "raw_df['country'] = raw_df['country'].bfill()\n",
    "\n",
    "raw_df.dropna(inplace=True)"
   ]
  },
  {
   "cell_type": "code",
   "execution_count": 23,
   "metadata": {},
   "outputs": [
    {
     "name": "stdout",
     "output_type": "stream",
     "text": [
      "<class 'pandas.core.frame.DataFrame'>\n",
      "Index: 8790 entries, 0 to 8806\n",
      "Data columns (total 10 columns):\n",
      " #   Column        Non-Null Count  Dtype \n",
      "---  ------        --------------  ----- \n",
      " 0   type          8790 non-null   object\n",
      " 1   title         8790 non-null   object\n",
      " 2   director      8790 non-null   object\n",
      " 3   cast          8790 non-null   object\n",
      " 4   country       8790 non-null   object\n",
      " 5   date_added    8790 non-null   object\n",
      " 6   release_year  8790 non-null   int64 \n",
      " 7   rating        8790 non-null   object\n",
      " 8   duration      8790 non-null   object\n",
      " 9   listed_in     8790 non-null   object\n",
      "dtypes: int64(1), object(9)\n",
      "memory usage: 755.4+ KB\n"
     ]
    }
   ],
   "source": [
    "raw_df.info()"
   ]
  },
  {
   "cell_type": "markdown",
   "metadata": {},
   "source": [
    "### Convert data type of date_added column to datetime"
   ]
  },
  {
   "cell_type": "code",
   "execution_count": 24,
   "metadata": {},
   "outputs": [],
   "source": [
    "raw_df['date_added'] = pd.to_datetime(raw_df['date_added'].str.strip())\n",
    "raw_df['year_added'] = raw_df['date_added'].dt.year\n",
    "raw_df['month_added'] = raw_df['date_added'].dt.month"
   ]
  },
  {
   "cell_type": "markdown",
   "metadata": {},
   "source": [
    "### With each numerical column, how are values distributed?"
   ]
  },
  {
   "cell_type": "markdown",
   "metadata": {},
   "source": [
    "- Percentage of missing values?"
   ]
  },
  {
   "cell_type": "code",
   "execution_count": 25,
   "metadata": {},
   "outputs": [
    {
     "data": {
      "text/plain": [
       "release_year    0.0\n",
       "year_added      0.0\n",
       "month_added     0.0\n",
       "dtype: float64"
      ]
     },
     "execution_count": 25,
     "metadata": {},
     "output_type": "execute_result"
    }
   ],
   "source": [
    "raw_df.select_dtypes('number').isna().sum() / len(raw_df)"
   ]
  },
  {
   "cell_type": "markdown",
   "metadata": {},
   "source": [
    "- Describe the values."
   ]
  },
  {
   "cell_type": "code",
   "execution_count": 26,
   "metadata": {},
   "outputs": [
    {
     "data": {
      "text/html": [
       "<div>\n",
       "<style scoped>\n",
       "    .dataframe tbody tr th:only-of-type {\n",
       "        vertical-align: middle;\n",
       "    }\n",
       "\n",
       "    .dataframe tbody tr th {\n",
       "        vertical-align: top;\n",
       "    }\n",
       "\n",
       "    .dataframe thead th {\n",
       "        text-align: right;\n",
       "    }\n",
       "</style>\n",
       "<table border=\"1\" class=\"dataframe\">\n",
       "  <thead>\n",
       "    <tr style=\"text-align: right;\">\n",
       "      <th></th>\n",
       "      <th>release_year</th>\n",
       "      <th>year_added</th>\n",
       "      <th>month_added</th>\n",
       "    </tr>\n",
       "  </thead>\n",
       "  <tbody>\n",
       "    <tr>\n",
       "      <th>count</th>\n",
       "      <td>8790.000000</td>\n",
       "      <td>8790.000000</td>\n",
       "      <td>8790.000000</td>\n",
       "    </tr>\n",
       "    <tr>\n",
       "      <th>mean</th>\n",
       "      <td>2014.183163</td>\n",
       "      <td>2018.873606</td>\n",
       "      <td>6.655859</td>\n",
       "    </tr>\n",
       "    <tr>\n",
       "      <th>std</th>\n",
       "      <td>8.825466</td>\n",
       "      <td>1.573568</td>\n",
       "      <td>3.436103</td>\n",
       "    </tr>\n",
       "    <tr>\n",
       "      <th>min</th>\n",
       "      <td>1925.000000</td>\n",
       "      <td>2008.000000</td>\n",
       "      <td>1.000000</td>\n",
       "    </tr>\n",
       "    <tr>\n",
       "      <th>25%</th>\n",
       "      <td>2013.000000</td>\n",
       "      <td>2018.000000</td>\n",
       "      <td>4.000000</td>\n",
       "    </tr>\n",
       "    <tr>\n",
       "      <th>50%</th>\n",
       "      <td>2017.000000</td>\n",
       "      <td>2019.000000</td>\n",
       "      <td>7.000000</td>\n",
       "    </tr>\n",
       "    <tr>\n",
       "      <th>75%</th>\n",
       "      <td>2019.000000</td>\n",
       "      <td>2020.000000</td>\n",
       "      <td>10.000000</td>\n",
       "    </tr>\n",
       "    <tr>\n",
       "      <th>max</th>\n",
       "      <td>2021.000000</td>\n",
       "      <td>2021.000000</td>\n",
       "      <td>12.000000</td>\n",
       "    </tr>\n",
       "  </tbody>\n",
       "</table>\n",
       "</div>"
      ],
      "text/plain": [
       "       release_year   year_added  month_added\n",
       "count   8790.000000  8790.000000  8790.000000\n",
       "mean    2014.183163  2018.873606     6.655859\n",
       "std        8.825466     1.573568     3.436103\n",
       "min     1925.000000  2008.000000     1.000000\n",
       "25%     2013.000000  2018.000000     4.000000\n",
       "50%     2017.000000  2019.000000     7.000000\n",
       "75%     2019.000000  2020.000000    10.000000\n",
       "max     2021.000000  2021.000000    12.000000"
      ]
     },
     "execution_count": 26,
     "metadata": {},
     "output_type": "execute_result"
    }
   ],
   "source": [
    "raw_df.select_dtypes('number').describe()"
   ]
  },
  {
   "cell_type": "markdown",
   "metadata": {},
   "source": [
    "All values seem to be normal."
   ]
  },
  {
   "cell_type": "markdown",
   "metadata": {},
   "source": [
    "### With each categorical column, how are values distributed?"
   ]
  },
  {
   "cell_type": "markdown",
   "metadata": {},
   "source": [
    "### Missing ratios of categorical columns"
   ]
  },
  {
   "cell_type": "code",
   "execution_count": 27,
   "metadata": {},
   "outputs": [
    {
     "data": {
      "text/html": [
       "<div>\n",
       "<style scoped>\n",
       "    .dataframe tbody tr th:only-of-type {\n",
       "        vertical-align: middle;\n",
       "    }\n",
       "\n",
       "    .dataframe tbody tr th {\n",
       "        vertical-align: top;\n",
       "    }\n",
       "\n",
       "    .dataframe thead th {\n",
       "        text-align: right;\n",
       "    }\n",
       "</style>\n",
       "<table border=\"1\" class=\"dataframe\">\n",
       "  <thead>\n",
       "    <tr style=\"text-align: right;\">\n",
       "      <th></th>\n",
       "      <th>type</th>\n",
       "      <th>title</th>\n",
       "      <th>director</th>\n",
       "      <th>cast</th>\n",
       "      <th>country</th>\n",
       "      <th>rating</th>\n",
       "      <th>duration</th>\n",
       "      <th>listed_in</th>\n",
       "    </tr>\n",
       "  </thead>\n",
       "  <tbody>\n",
       "    <tr>\n",
       "      <th>missing_ratio</th>\n",
       "      <td>0.0</td>\n",
       "      <td>0.0</td>\n",
       "      <td>0.0</td>\n",
       "      <td>0.0</td>\n",
       "      <td>0.0</td>\n",
       "      <td>0.0</td>\n",
       "      <td>0.0</td>\n",
       "      <td>0.0</td>\n",
       "    </tr>\n",
       "    <tr>\n",
       "      <th>num_values</th>\n",
       "      <td>2</td>\n",
       "      <td>8790</td>\n",
       "      <td>4527</td>\n",
       "      <td>7679</td>\n",
       "      <td>748</td>\n",
       "      <td>14</td>\n",
       "      <td>220</td>\n",
       "      <td>513</td>\n",
       "    </tr>\n",
       "    <tr>\n",
       "      <th>value_ratios</th>\n",
       "      <td>{'Movie': 69.7, 'TV Show': 30.3}</td>\n",
       "      <td>{'Dick Johnson Is Dead': 0.0, 'Cooked': 0.0, '...</td>\n",
       "      <td>{'Unknown': 29.8, 'Rajiv Chilaka': 0.2, 'Raúl ...</td>\n",
       "      <td>{'Unknown': 9.4, 'David Attenborough': 0.2, 'V...</td>\n",
       "      <td>{'United States': 35.2, 'India': 11.9, 'United...</td>\n",
       "      <td>{'TV-MA': 36.5, 'TV-14': 24.5, 'TV-PG': 9.8, '...</td>\n",
       "      <td>{'1 Season': 20.4, '2 Seasons': 4.8, '3 Season...</td>\n",
       "      <td>{'Dramas, International Movies': 4.1, 'Documen...</td>\n",
       "    </tr>\n",
       "  </tbody>\n",
       "</table>\n",
       "</div>"
      ],
      "text/plain": [
       "                                           type  \\\n",
       "missing_ratio                               0.0   \n",
       "num_values                                    2   \n",
       "value_ratios   {'Movie': 69.7, 'TV Show': 30.3}   \n",
       "\n",
       "                                                           title  \\\n",
       "missing_ratio                                                0.0   \n",
       "num_values                                                  8790   \n",
       "value_ratios   {'Dick Johnson Is Dead': 0.0, 'Cooked': 0.0, '...   \n",
       "\n",
       "                                                        director  \\\n",
       "missing_ratio                                                0.0   \n",
       "num_values                                                  4527   \n",
       "value_ratios   {'Unknown': 29.8, 'Rajiv Chilaka': 0.2, 'Raúl ...   \n",
       "\n",
       "                                                            cast  \\\n",
       "missing_ratio                                                0.0   \n",
       "num_values                                                  7679   \n",
       "value_ratios   {'Unknown': 9.4, 'David Attenborough': 0.2, 'V...   \n",
       "\n",
       "                                                         country  \\\n",
       "missing_ratio                                                0.0   \n",
       "num_values                                                   748   \n",
       "value_ratios   {'United States': 35.2, 'India': 11.9, 'United...   \n",
       "\n",
       "                                                          rating  \\\n",
       "missing_ratio                                                0.0   \n",
       "num_values                                                    14   \n",
       "value_ratios   {'TV-MA': 36.5, 'TV-14': 24.5, 'TV-PG': 9.8, '...   \n",
       "\n",
       "                                                        duration  \\\n",
       "missing_ratio                                                0.0   \n",
       "num_values                                                   220   \n",
       "value_ratios   {'1 Season': 20.4, '2 Seasons': 4.8, '3 Season...   \n",
       "\n",
       "                                                       listed_in  \n",
       "missing_ratio                                                0.0  \n",
       "num_values                                                   513  \n",
       "value_ratios   {'Dramas, International Movies': 4.1, 'Documen...  "
      ]
     },
     "execution_count": 27,
     "metadata": {},
     "output_type": "execute_result"
    }
   ],
   "source": [
    "df_copy = raw_df.copy()\n",
    "df_copy = df_copy.drop(axis = 1, columns=['date_added', 'release_year', 'year_added', 'month_added'])\n",
    "def missing_ratio(s):\n",
    "    return (s.isna().mean() * 100).round(1)\n",
    "\n",
    "def num_values(s):\n",
    "    s = s.str.split(';')\n",
    "    s = s.explode()\n",
    "    return len(s.value_counts())\n",
    "\n",
    "def value_ratios(s):\n",
    "    s = s.str.split(';')\n",
    "    s = s.explode()\n",
    "    totalCount = (~s.isna()).sum()\n",
    "    return ((s.value_counts()/totalCount*100).round(1)).to_dict()\n",
    "\n",
    "cat_col_info_df = df_copy.agg([missing_ratio, num_values, value_ratios])\n",
    "cat_col_info_df"
   ]
  },
  {
   "cell_type": "markdown",
   "metadata": {},
   "source": [
    "### Save processed data"
   ]
  },
  {
   "cell_type": "code",
   "execution_count": 28,
   "metadata": {},
   "outputs": [],
   "source": [
    "raw_df.to_csv('../data/processed/data.csv')"
   ]
  }
 ],
 "metadata": {
  "kernelspec": {
   "display_name": "Python 3",
   "language": "python",
   "name": "python3"
  },
  "language_info": {
   "codemirror_mode": {
    "name": "ipython",
    "version": 3
   },
   "file_extension": ".py",
   "mimetype": "text/x-python",
   "name": "python",
   "nbconvert_exporter": "python",
   "pygments_lexer": "ipython3",
   "version": "3.12.1"
  }
 },
 "nbformat": 4,
 "nbformat_minor": 2
}
