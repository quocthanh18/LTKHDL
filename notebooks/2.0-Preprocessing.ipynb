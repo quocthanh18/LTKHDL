{
 "cells": [
  {
   "cell_type": "markdown",
   "metadata": {},
   "source": [
    "## Import"
   ]
  },
  {
   "cell_type": "code",
   "execution_count": 1,
   "metadata": {},
   "outputs": [],
   "source": [
    "import numpy as np\n",
    "import pandas as pd"
   ]
  },
  {
   "cell_type": "markdown",
   "metadata": {},
   "source": [
    "## Exploring data"
   ]
  },
  {
   "cell_type": "markdown",
   "metadata": {},
   "source": [
    "### Read raw data from file"
   ]
  },
  {
   "cell_type": "code",
   "execution_count": 2,
   "metadata": {},
   "outputs": [],
   "source": [
    "raw_df = pd.read_csv(\"../data/raw/data.csv\")"
   ]
  },
  {
   "cell_type": "code",
   "execution_count": 3,
   "metadata": {},
   "outputs": [
    {
     "data": {
      "text/html": [
       "<div>\n",
       "<style scoped>\n",
       "    .dataframe tbody tr th:only-of-type {\n",
       "        vertical-align: middle;\n",
       "    }\n",
       "\n",
       "    .dataframe tbody tr th {\n",
       "        vertical-align: top;\n",
       "    }\n",
       "\n",
       "    .dataframe thead th {\n",
       "        text-align: right;\n",
       "    }\n",
       "</style>\n",
       "<table border=\"1\" class=\"dataframe\">\n",
       "  <thead>\n",
       "    <tr style=\"text-align: right;\">\n",
       "      <th></th>\n",
       "      <th>show_id</th>\n",
       "      <th>type</th>\n",
       "      <th>title</th>\n",
       "      <th>director</th>\n",
       "      <th>cast</th>\n",
       "      <th>country</th>\n",
       "      <th>date_added</th>\n",
       "      <th>release_year</th>\n",
       "      <th>rating</th>\n",
       "      <th>duration</th>\n",
       "      <th>listed_in</th>\n",
       "      <th>description</th>\n",
       "    </tr>\n",
       "  </thead>\n",
       "  <tbody>\n",
       "    <tr>\n",
       "      <th>6323</th>\n",
       "      <td>s6324</td>\n",
       "      <td>TV Show</td>\n",
       "      <td>Black Heart</td>\n",
       "      <td>NaN</td>\n",
       "      <td>Barış Kılıç, Tuvana Türkay, Serhat Tutumluer, ...</td>\n",
       "      <td>Turkey</td>\n",
       "      <td>October 12, 2018</td>\n",
       "      <td>2014</td>\n",
       "      <td>TV-14</td>\n",
       "      <td>1 Season</td>\n",
       "      <td>Crime TV Shows, International TV Shows, TV Dramas</td>\n",
       "      <td>Blaming a crooked media mogul for the death of...</td>\n",
       "    </tr>\n",
       "    <tr>\n",
       "      <th>5503</th>\n",
       "      <td>s5504</td>\n",
       "      <td>Movie</td>\n",
       "      <td>JFK: The Making of a President</td>\n",
       "      <td>Edward Cotterill</td>\n",
       "      <td>NaN</td>\n",
       "      <td>United Kingdom</td>\n",
       "      <td>May 1, 2017</td>\n",
       "      <td>2017</td>\n",
       "      <td>TV-PG</td>\n",
       "      <td>44 min</td>\n",
       "      <td>Documentaries</td>\n",
       "      <td>Explore how John F. Kennedy's worldview was in...</td>\n",
       "    </tr>\n",
       "    <tr>\n",
       "      <th>7493</th>\n",
       "      <td>s7494</td>\n",
       "      <td>Movie</td>\n",
       "      <td>Monster High: Friday Night Frights</td>\n",
       "      <td>Dustin McKenzie</td>\n",
       "      <td>Laura Bailey, Ogie Banks, Cam Clarke, Debi Der...</td>\n",
       "      <td>United States</td>\n",
       "      <td>January 1, 2018</td>\n",
       "      <td>2013</td>\n",
       "      <td>TV-Y7</td>\n",
       "      <td>46 min</td>\n",
       "      <td>Children &amp; Family Movies</td>\n",
       "      <td>In their bid to win the Skulltimate Roller Maz...</td>\n",
       "    </tr>\n",
       "    <tr>\n",
       "      <th>7834</th>\n",
       "      <td>s7835</td>\n",
       "      <td>Movie</td>\n",
       "      <td>Rats</td>\n",
       "      <td>Morgan Spurlock</td>\n",
       "      <td>NaN</td>\n",
       "      <td>United States</td>\n",
       "      <td>December 16, 2016</td>\n",
       "      <td>2016</td>\n",
       "      <td>NR</td>\n",
       "      <td>88 min</td>\n",
       "      <td>Documentaries</td>\n",
       "      <td>Explore the icky world of rats and witness how...</td>\n",
       "    </tr>\n",
       "    <tr>\n",
       "      <th>2202</th>\n",
       "      <td>s2203</td>\n",
       "      <td>Movie</td>\n",
       "      <td>Banana Split</td>\n",
       "      <td>Ben Kasulke</td>\n",
       "      <td>Hannah Marks, Liana Liberato, Dylan Sprouse, L...</td>\n",
       "      <td>United States</td>\n",
       "      <td>July 26, 2020</td>\n",
       "      <td>2020</td>\n",
       "      <td>TV-MA</td>\n",
       "      <td>84 min</td>\n",
       "      <td>Comedies, Dramas, Independent Movies</td>\n",
       "      <td>Despite leaving for college, a heartsick teen ...</td>\n",
       "    </tr>\n",
       "  </tbody>\n",
       "</table>\n",
       "</div>"
      ],
      "text/plain": [
       "     show_id     type                               title          director  \\\n",
       "6323   s6324  TV Show                         Black Heart               NaN   \n",
       "5503   s5504    Movie      JFK: The Making of a President  Edward Cotterill   \n",
       "7493   s7494    Movie  Monster High: Friday Night Frights   Dustin McKenzie   \n",
       "7834   s7835    Movie                                Rats   Morgan Spurlock   \n",
       "2202   s2203    Movie                        Banana Split       Ben Kasulke   \n",
       "\n",
       "                                                   cast         country  \\\n",
       "6323  Barış Kılıç, Tuvana Türkay, Serhat Tutumluer, ...          Turkey   \n",
       "5503                                                NaN  United Kingdom   \n",
       "7493  Laura Bailey, Ogie Banks, Cam Clarke, Debi Der...   United States   \n",
       "7834                                                NaN   United States   \n",
       "2202  Hannah Marks, Liana Liberato, Dylan Sprouse, L...   United States   \n",
       "\n",
       "             date_added  release_year rating  duration  \\\n",
       "6323   October 12, 2018          2014  TV-14  1 Season   \n",
       "5503        May 1, 2017          2017  TV-PG    44 min   \n",
       "7493    January 1, 2018          2013  TV-Y7    46 min   \n",
       "7834  December 16, 2016          2016     NR    88 min   \n",
       "2202      July 26, 2020          2020  TV-MA    84 min   \n",
       "\n",
       "                                              listed_in  \\\n",
       "6323  Crime TV Shows, International TV Shows, TV Dramas   \n",
       "5503                                      Documentaries   \n",
       "7493                           Children & Family Movies   \n",
       "7834                                      Documentaries   \n",
       "2202               Comedies, Dramas, Independent Movies   \n",
       "\n",
       "                                            description  \n",
       "6323  Blaming a crooked media mogul for the death of...  \n",
       "5503  Explore how John F. Kennedy's worldview was in...  \n",
       "7493  In their bid to win the Skulltimate Roller Maz...  \n",
       "7834  Explore the icky world of rats and witness how...  \n",
       "2202  Despite leaving for college, a heartsick teen ...  "
      ]
     },
     "execution_count": 3,
     "metadata": {},
     "output_type": "execute_result"
    }
   ],
   "source": [
    "raw_df.sample(5)"
   ]
  },
  {
   "cell_type": "markdown",
   "metadata": {},
   "source": [
    "We could drop the show_id and description column because they are not useful for our analysis."
   ]
  },
  {
   "cell_type": "code",
   "execution_count": 4,
   "metadata": {},
   "outputs": [],
   "source": [
    "raw_df.drop(columns = ['show_id', 'description'], inplace = True)"
   ]
  },
  {
   "cell_type": "markdown",
   "metadata": {},
   "source": [
    "### How many rows and how many columns does the raw data have?"
   ]
  },
  {
   "cell_type": "code",
   "execution_count": 5,
   "metadata": {},
   "outputs": [
    {
     "name": "stdout",
     "output_type": "stream",
     "text": [
      "Data has 8807 rows and 10 columns\n"
     ]
    }
   ],
   "source": [
    "shape = raw_df.shape\n",
    "print(f\"Data has {shape[0]} rows and {shape[1]} columns\")"
   ]
  },
  {
   "cell_type": "markdown",
   "metadata": {},
   "source": [
    "### What is the meaning of each row?"
   ]
  },
  {
   "cell_type": "markdown",
   "metadata": {},
   "source": [
    "Each row represents information about a movie/ tv show on Netflix from 2008 to mid 2021."
   ]
  },
  {
   "cell_type": "markdown",
   "metadata": {},
   "source": [
    "### Are there duplicated rows?"
   ]
  },
  {
   "cell_type": "code",
   "execution_count": 6,
   "metadata": {},
   "outputs": [
    {
     "name": "stdout",
     "output_type": "stream",
     "text": [
      "Number of duplicate rows: 0\n"
     ]
    }
   ],
   "source": [
    "unique_rows = raw_df.drop_duplicates().shape[0] - shape[0]\n",
    "print(f'Number of duplicate rows: {unique_rows}')"
   ]
  },
  {
   "cell_type": "markdown",
   "metadata": {},
   "source": [
    "### What is the meaning of each column?"
   ]
  },
  {
   "cell_type": "markdown",
   "metadata": {},
   "source": [
    "| Column Name | Description |\n",
    "| --- | --- |\n",
    "| show_id | Unique ID for each movie/ tv show |\n",
    "| type | Type of the movie/ tv show (Movie or TV Show) |\n",
    "| title | Title of the movie/ tv show |\n",
    "| director | Director of the movie/ tv show |\n",
    "| cast | Cast of the movie/ tv show |\n",
    "| country | Country where the movie/ tv show was produced |\n",
    "| date_added | Date when the movie/ tv show was added to Netflix |\n",
    "| release_year | Year when the movie/ tv show was released |\n",
    "| rating | Rating of the movie/ tv show |\n",
    "| duration | Duration of the movie/ tv show |\n",
    "| listed_in | Genre of the movie/ tv show |\n",
    "| description | Description of the movie/ tv show |"
   ]
  },
  {
   "cell_type": "markdown",
   "metadata": {},
   "source": [
    "### What is the current data type of each column? Are there columns having inappropriate data types?\n"
   ]
  },
  {
   "cell_type": "code",
   "execution_count": 7,
   "metadata": {},
   "outputs": [
    {
     "name": "stdout",
     "output_type": "stream",
     "text": [
      "<class 'pandas.core.frame.DataFrame'>\n",
      "RangeIndex: 8807 entries, 0 to 8806\n",
      "Data columns (total 10 columns):\n",
      " #   Column        Non-Null Count  Dtype \n",
      "---  ------        --------------  ----- \n",
      " 0   type          8807 non-null   object\n",
      " 1   title         8807 non-null   object\n",
      " 2   director      6173 non-null   object\n",
      " 3   cast          7982 non-null   object\n",
      " 4   country       7976 non-null   object\n",
      " 5   date_added    8797 non-null   object\n",
      " 6   release_year  8807 non-null   int64 \n",
      " 7   rating        8803 non-null   object\n",
      " 8   duration      8804 non-null   object\n",
      " 9   listed_in     8807 non-null   object\n",
      "dtypes: int64(1), object(9)\n",
      "memory usage: 688.2+ KB\n"
     ]
    }
   ],
   "source": [
    "raw_df.info()"
   ]
  },
  {
   "cell_type": "markdown",
   "metadata": {},
   "source": [
    "We have null values in director, cast, country, date_added, rating and duration columns."
   ]
  },
  {
   "cell_type": "markdown",
   "metadata": {},
   "source": [
    "The reason why we don't want to drop the null values in those column is because it could provide some interesting points."
   ]
  },
  {
   "cell_type": "code",
   "execution_count": 8,
   "metadata": {},
   "outputs": [],
   "source": [
    "## Drop NaN\n",
    "raw_df.dropna(inplace=True,axis=0,subset=['date_added'])\n",
    "\n",
    "\n",
    "raw_df['director'] = raw_df['director'].fillna('Unknown')\n",
    "raw_df['country'] = raw_df['country'].fillna('Unknown')\n",
    "raw_df['cast'] = raw_df['cast'].fillna('Unknown')\n",
    "raw_df['rating'] = raw_df['rating'].fillna('Unknown')\n",
    "raw_df['duration' ]= raw_df['duration'].fillna('Unknown')\n"
   ]
  },
  {
   "cell_type": "code",
   "execution_count": 9,
   "metadata": {},
   "outputs": [
    {
     "name": "stdout",
     "output_type": "stream",
     "text": [
      "<class 'pandas.core.frame.DataFrame'>\n",
      "Index: 8797 entries, 0 to 8806\n",
      "Data columns (total 10 columns):\n",
      " #   Column        Non-Null Count  Dtype \n",
      "---  ------        --------------  ----- \n",
      " 0   type          8797 non-null   object\n",
      " 1   title         8797 non-null   object\n",
      " 2   director      8797 non-null   object\n",
      " 3   cast          8797 non-null   object\n",
      " 4   country       8797 non-null   object\n",
      " 5   date_added    8797 non-null   object\n",
      " 6   release_year  8797 non-null   int64 \n",
      " 7   rating        8797 non-null   object\n",
      " 8   duration      8797 non-null   object\n",
      " 9   listed_in     8797 non-null   object\n",
      "dtypes: int64(1), object(9)\n",
      "memory usage: 756.0+ KB\n"
     ]
    }
   ],
   "source": [
    "raw_df.info()"
   ]
  },
  {
   "cell_type": "markdown",
   "metadata": {},
   "source": [
    "### Convert data type of date_added column to datetime"
   ]
  },
  {
   "cell_type": "code",
   "execution_count": 10,
   "metadata": {},
   "outputs": [],
   "source": [
    "raw_df['date_added'] = pd.to_datetime(raw_df['date_added'].str.strip())\n",
    "raw_df['year_added'] = raw_df['date_added'].dt.year\n",
    "raw_df['month_added'] = raw_df['date_added'].dt.month"
   ]
  },
  {
   "cell_type": "markdown",
   "metadata": {},
   "source": [
    "### With each numerical column, how are values distributed?"
   ]
  },
  {
   "cell_type": "markdown",
   "metadata": {},
   "source": [
    "- Percentage of missing values?"
   ]
  },
  {
   "cell_type": "code",
   "execution_count": 11,
   "metadata": {},
   "outputs": [
    {
     "data": {
      "text/plain": [
       "release_year    0.0\n",
       "year_added      0.0\n",
       "month_added     0.0\n",
       "dtype: float64"
      ]
     },
     "execution_count": 11,
     "metadata": {},
     "output_type": "execute_result"
    }
   ],
   "source": [
    "raw_df.select_dtypes('number').isna().sum() / len(raw_df)"
   ]
  },
  {
   "cell_type": "markdown",
   "metadata": {},
   "source": [
    "- Describe the values."
   ]
  },
  {
   "cell_type": "code",
   "execution_count": 12,
   "metadata": {},
   "outputs": [
    {
     "data": {
      "text/html": [
       "<div>\n",
       "<style scoped>\n",
       "    .dataframe tbody tr th:only-of-type {\n",
       "        vertical-align: middle;\n",
       "    }\n",
       "\n",
       "    .dataframe tbody tr th {\n",
       "        vertical-align: top;\n",
       "    }\n",
       "\n",
       "    .dataframe thead th {\n",
       "        text-align: right;\n",
       "    }\n",
       "</style>\n",
       "<table border=\"1\" class=\"dataframe\">\n",
       "  <thead>\n",
       "    <tr style=\"text-align: right;\">\n",
       "      <th></th>\n",
       "      <th>release_year</th>\n",
       "      <th>year_added</th>\n",
       "      <th>month_added</th>\n",
       "    </tr>\n",
       "  </thead>\n",
       "  <tbody>\n",
       "    <tr>\n",
       "      <th>count</th>\n",
       "      <td>8797.000000</td>\n",
       "      <td>8797.000000</td>\n",
       "      <td>8797.000000</td>\n",
       "    </tr>\n",
       "    <tr>\n",
       "      <th>mean</th>\n",
       "      <td>2014.183472</td>\n",
       "      <td>2018.871888</td>\n",
       "      <td>6.654996</td>\n",
       "    </tr>\n",
       "    <tr>\n",
       "      <th>std</th>\n",
       "      <td>8.822191</td>\n",
       "      <td>1.574243</td>\n",
       "      <td>3.436554</td>\n",
       "    </tr>\n",
       "    <tr>\n",
       "      <th>min</th>\n",
       "      <td>1925.000000</td>\n",
       "      <td>2008.000000</td>\n",
       "      <td>1.000000</td>\n",
       "    </tr>\n",
       "    <tr>\n",
       "      <th>25%</th>\n",
       "      <td>2013.000000</td>\n",
       "      <td>2018.000000</td>\n",
       "      <td>4.000000</td>\n",
       "    </tr>\n",
       "    <tr>\n",
       "      <th>50%</th>\n",
       "      <td>2017.000000</td>\n",
       "      <td>2019.000000</td>\n",
       "      <td>7.000000</td>\n",
       "    </tr>\n",
       "    <tr>\n",
       "      <th>75%</th>\n",
       "      <td>2019.000000</td>\n",
       "      <td>2020.000000</td>\n",
       "      <td>10.000000</td>\n",
       "    </tr>\n",
       "    <tr>\n",
       "      <th>max</th>\n",
       "      <td>2021.000000</td>\n",
       "      <td>2021.000000</td>\n",
       "      <td>12.000000</td>\n",
       "    </tr>\n",
       "  </tbody>\n",
       "</table>\n",
       "</div>"
      ],
      "text/plain": [
       "       release_year   year_added  month_added\n",
       "count   8797.000000  8797.000000  8797.000000\n",
       "mean    2014.183472  2018.871888     6.654996\n",
       "std        8.822191     1.574243     3.436554\n",
       "min     1925.000000  2008.000000     1.000000\n",
       "25%     2013.000000  2018.000000     4.000000\n",
       "50%     2017.000000  2019.000000     7.000000\n",
       "75%     2019.000000  2020.000000    10.000000\n",
       "max     2021.000000  2021.000000    12.000000"
      ]
     },
     "execution_count": 12,
     "metadata": {},
     "output_type": "execute_result"
    }
   ],
   "source": [
    "raw_df.select_dtypes('number').describe()"
   ]
  },
  {
   "cell_type": "markdown",
   "metadata": {},
   "source": [
    "All values seem to be normal."
   ]
  },
  {
   "cell_type": "markdown",
   "metadata": {},
   "source": [
    "### With each categorical column, how are values distributed?"
   ]
  },
  {
   "cell_type": "markdown",
   "metadata": {},
   "source": [
    "### Missing ratios of categorical columns"
   ]
  },
  {
   "cell_type": "code",
   "execution_count": 13,
   "metadata": {},
   "outputs": [
    {
     "data": {
      "text/html": [
       "<div>\n",
       "<style scoped>\n",
       "    .dataframe tbody tr th:only-of-type {\n",
       "        vertical-align: middle;\n",
       "    }\n",
       "\n",
       "    .dataframe tbody tr th {\n",
       "        vertical-align: top;\n",
       "    }\n",
       "\n",
       "    .dataframe thead th {\n",
       "        text-align: right;\n",
       "    }\n",
       "</style>\n",
       "<table border=\"1\" class=\"dataframe\">\n",
       "  <thead>\n",
       "    <tr style=\"text-align: right;\">\n",
       "      <th></th>\n",
       "      <th>type</th>\n",
       "      <th>title</th>\n",
       "      <th>director</th>\n",
       "      <th>cast</th>\n",
       "      <th>country</th>\n",
       "      <th>rating</th>\n",
       "      <th>duration</th>\n",
       "      <th>listed_in</th>\n",
       "    </tr>\n",
       "  </thead>\n",
       "  <tbody>\n",
       "    <tr>\n",
       "      <th>missing_ratio</th>\n",
       "      <td>0.0</td>\n",
       "      <td>0.0</td>\n",
       "      <td>0.0</td>\n",
       "      <td>0.0</td>\n",
       "      <td>0.0</td>\n",
       "      <td>0.0</td>\n",
       "      <td>0.0</td>\n",
       "      <td>0.0</td>\n",
       "    </tr>\n",
       "    <tr>\n",
       "      <th>num_values</th>\n",
       "      <td>2</td>\n",
       "      <td>8929</td>\n",
       "      <td>5121</td>\n",
       "      <td>39261</td>\n",
       "      <td>198</td>\n",
       "      <td>18</td>\n",
       "      <td>221</td>\n",
       "      <td>73</td>\n",
       "    </tr>\n",
       "    <tr>\n",
       "      <th>value_ratios</th>\n",
       "      <td>{'Movie': 69.7, 'TV Show': 30.3}</td>\n",
       "      <td>{'Love': 0.1, ' Explained': 0.1, 'Hello': 0.0,...</td>\n",
       "      <td>{'Unknown': 27.3, 'Rajiv Chilaka': 0.2, ' Jan ...</td>\n",
       "      <td>{'Unknown': 1.3, ' Anupam Kher': 0.1, ' Rupa B...</td>\n",
       "      <td>{'United States': 29.6, 'India': 9.3, 'Unknown...</td>\n",
       "      <td>{'TV-MA': 36.4, 'TV-14': 24.5, 'TV-PG': 9.8, '...</td>\n",
       "      <td>{'1 Season': 20.4, '2 Seasons': 4.8, '3 Season...</td>\n",
       "      <td>{' International Movies': 13.6, 'Dramas': 8.3,...</td>\n",
       "    </tr>\n",
       "  </tbody>\n",
       "</table>\n",
       "</div>"
      ],
      "text/plain": [
       "                                           type  \\\n",
       "missing_ratio                               0.0   \n",
       "num_values                                    2   \n",
       "value_ratios   {'Movie': 69.7, 'TV Show': 30.3}   \n",
       "\n",
       "                                                           title  \\\n",
       "missing_ratio                                                0.0   \n",
       "num_values                                                  8929   \n",
       "value_ratios   {'Love': 0.1, ' Explained': 0.1, 'Hello': 0.0,...   \n",
       "\n",
       "                                                        director  \\\n",
       "missing_ratio                                                0.0   \n",
       "num_values                                                  5121   \n",
       "value_ratios   {'Unknown': 27.3, 'Rajiv Chilaka': 0.2, ' Jan ...   \n",
       "\n",
       "                                                            cast  \\\n",
       "missing_ratio                                                0.0   \n",
       "num_values                                                 39261   \n",
       "value_ratios   {'Unknown': 1.3, ' Anupam Kher': 0.1, ' Rupa B...   \n",
       "\n",
       "                                                         country  \\\n",
       "missing_ratio                                                0.0   \n",
       "num_values                                                   198   \n",
       "value_ratios   {'United States': 29.6, 'India': 9.3, 'Unknown...   \n",
       "\n",
       "                                                          rating  \\\n",
       "missing_ratio                                                0.0   \n",
       "num_values                                                    18   \n",
       "value_ratios   {'TV-MA': 36.4, 'TV-14': 24.5, 'TV-PG': 9.8, '...   \n",
       "\n",
       "                                                        duration  \\\n",
       "missing_ratio                                                0.0   \n",
       "num_values                                                   221   \n",
       "value_ratios   {'1 Season': 20.4, '2 Seasons': 4.8, '3 Season...   \n",
       "\n",
       "                                                       listed_in  \n",
       "missing_ratio                                                0.0  \n",
       "num_values                                                    73  \n",
       "value_ratios   {' International Movies': 13.6, 'Dramas': 8.3,...  "
      ]
     },
     "execution_count": 13,
     "metadata": {},
     "output_type": "execute_result"
    }
   ],
   "source": [
    "df_copy = raw_df.copy()\n",
    "df_copy = df_copy.drop(axis = 1, columns=['date_added', 'release_year', 'year_added', 'month_added'])\n",
    "def missing_ratio(s):\n",
    "    return (s.isna().mean() * 100).round(1)\n",
    "\n",
    "def num_values(s):\n",
    "    s = s.str.split(',')\n",
    "    s = s.explode()\n",
    "    return len(s.value_counts())\n",
    "\n",
    "def value_ratios(s):\n",
    "    s = s.str.split(',')\n",
    "    s = s.explode()\n",
    "    totalCount = (~s.isna()).sum()\n",
    "    return ((s.value_counts()/totalCount*100).round(1)).to_dict()\n",
    "\n",
    "cat_col_info_df = df_copy.agg([missing_ratio, num_values, value_ratios])\n",
    "cat_col_info_df"
   ]
  },
  {
   "cell_type": "markdown",
   "metadata": {},
   "source": [
    "### Save processed data"
   ]
  },
  {
   "cell_type": "code",
   "execution_count": 14,
   "metadata": {},
   "outputs": [],
   "source": [
    "raw_df.to_csv('../data/processed/data.csv')"
   ]
  }
 ],
 "metadata": {
  "kernelspec": {
   "display_name": "Python 3",
   "language": "python",
   "name": "python3"
  },
  "language_info": {
   "codemirror_mode": {
    "name": "ipython",
    "version": 3
   },
   "file_extension": ".py",
   "mimetype": "text/x-python",
   "name": "python",
   "nbconvert_exporter": "python",
   "pygments_lexer": "ipython3",
   "version": "3.12.1"
  }
 },
 "nbformat": 4,
 "nbformat_minor": 2
}
