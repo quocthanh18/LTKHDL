{
 "cells": [
  {
   "cell_type": "markdown",
   "metadata": {},
   "source": [
    "## Import"
   ]
  },
  {
   "cell_type": "code",
   "execution_count": null,
   "metadata": {},
   "outputs": [],
   "source": [
    "# import libraries\n",
    "import numpy as np\n",
    "import pandas as pd\n",
    "import matplotlib.pyplot as plt\n"
   ]
  },
  {
   "cell_type": "markdown",
   "metadata": {},
   "source": [
    "## Exploring data"
   ]
  },
  {
   "cell_type": "code",
   "execution_count": null,
   "metadata": {},
   "outputs": [],
   "source": []
  },
  {
   "cell_type": "markdown",
   "metadata": {},
   "source": [
    "### Read raw data from file"
   ]
  },
  {
   "cell_type": "code",
   "execution_count": null,
   "metadata": {},
   "outputs": [],
   "source": [
    "# Read data from CSV file\n",
    "movie_df = pd.read_csv('../data/raw/data.csv')\n",
    "\n",
    "# Display the first 5 lines of data\n",
    "movie_df.head()"
   ]
  },
  {
   "cell_type": "code",
   "execution_count": null,
   "metadata": {},
   "outputs": [],
   "source": []
  },
  {
   "cell_type": "markdown",
   "metadata": {},
   "source": [
    "### How many rows and how many columns does the raw data have?"
   ]
  },
  {
   "cell_type": "code",
   "execution_count": null,
   "metadata": {},
   "outputs": [],
   "source": [
    "n_rows, n_cols = movie_df.shape\n",
    "\n",
    "n_rows, n_cols"
   ]
  },
  {
   "cell_type": "markdown",
   "metadata": {},
   "source": [
    "### What is the meaning of each row?"
   ]
  },
  {
   "cell_type": "code",
   "execution_count": null,
   "metadata": {},
   "outputs": [],
   "source": []
  },
  {
   "cell_type": "markdown",
   "metadata": {},
   "source": [
    "### Are there duplicated rows?"
   ]
  },
  {
   "cell_type": "code",
   "execution_count": null,
   "metadata": {},
   "outputs": [],
   "source": [
    "# Check for duplicate rows\n",
    "is_duplicate = movie_df.duplicated().all()\n",
    "\n",
    "is_duplicate"
   ]
  },
  {
   "cell_type": "code",
   "execution_count": null,
   "metadata": {},
   "outputs": [],
   "source": [
    "if is_duplicate == True:\n",
    "    movie_df.drop_duplicates(inplace=True)"
   ]
  },
  {
   "cell_type": "markdown",
   "metadata": {},
   "source": [
    "### What is the meaning of each column?"
   ]
  },
  {
   "cell_type": "markdown",
   "metadata": {},
   "source": [
    "- show_id : Unique ID for each movie/ tv show \n",
    "- type : Type of the movie/ tv show (Movie or TV Show) \n",
    "- title : Title of the movie/ tv show \n",
    "- director : Director of the movie/ tv show \n",
    "- cast : Cast of the movie/ tv show \n",
    "- country : Country where the movie/ tv show was produced \n",
    "- date_added : Date when the movie/ tv show was added to Netflix \n",
    "- release_year : Year when the movie/ tv show was released \n",
    "- rating : Rating of the movie/ tv show \n",
    "- duration : Duration of the movie/ tv show \n",
    "- listed_in : Genre of the movie/ tv show \n",
    "- description : Description of the movie/ tv show \n"
   ]
  },
  {
   "cell_type": "code",
   "execution_count": null,
   "metadata": {},
   "outputs": [],
   "source": []
  },
  {
   "cell_type": "markdown",
   "metadata": {},
   "source": []
  },
  {
   "cell_type": "markdown",
   "metadata": {},
   "source": [
    "### What is the current data type of each column? Are there columns having inappropriate data types?\n"
   ]
  },
  {
   "cell_type": "code",
   "execution_count": null,
   "metadata": {},
   "outputs": [],
   "source": [
    "movie_df.info()"
   ]
  },
  {
   "cell_type": "code",
   "execution_count": null,
   "metadata": {},
   "outputs": [],
   "source": [
    "# Chuyển cột 'date_added' thành kiểu datetime\n",
    "movie_df['date_added'] = pd.to_datetime(movie_df['date_added'], errors='coerce')"
   ]
  },
  {
   "cell_type": "markdown",
   "metadata": {},
   "source": [
    "### With each numerical column, how are values distributed?"
   ]
  },
  {
   "cell_type": "code",
   "execution_count": null,
   "metadata": {},
   "outputs": [],
   "source": [
    "num_col_info_df = movie_df.select_dtypes(exclude='object')\n",
    "\n",
    "def missing_ratio(s):\n",
    "    return (s.isna().mean() * 100).round(2)\n",
    "    # raise NotImplementedError()\n",
    "\n",
    "num_col_info_df = num_col_info_df.agg([missing_ratio, \"min\", \"max\"])\n",
    "num_col_info_df"
   ]
  },
  {
   "cell_type": "markdown",
   "metadata": {},
   "source": [
    "### With each categorical column, how are values distributed?"
   ]
  },
  {
   "cell_type": "code",
   "execution_count": null,
   "metadata": {},
   "outputs": [],
   "source": [
    "cate_col_info_df = movie_df.select_dtypes(include='object')\n",
    "\n",
    "# Create an empty DataFrame to store the summary information\n",
    "summary_df = pd.DataFrame(columns=['Column', 'Number of Unique Values', 'Missing Ratio', 'Sample Values'])\n",
    "\n",
    "# Display distribution, missing values, and unique values for each categorical column\n",
    "for column in cate_col_info_df.columns:\n",
    "    unique_values = cate_col_info_df[column].nunique()\n",
    "    missing_values = missing_ratio(cate_col_info_df[column])\n",
    "    \n",
    "    sample_values = cate_col_info_df[column].unique()[:5]\n",
    "    \n",
    "    \n",
    "    # Use loc to add rows to the summary DataFrame\n",
    "    summary_df.loc[len(summary_df)] = [column, unique_values, missing_values, sample_values]\n",
    "\n",
    "# Display the summary DataFrame\n",
    "summary_df\n"
   ]
  },
  {
   "cell_type": "code",
   "execution_count": null,
   "metadata": {},
   "outputs": [],
   "source": [
    "## Drop NaN\n",
    "movie_df.dropna(inplace=True,axis=0,subset=['date_added','rating'])\n",
    "\n",
    "\n",
    "movie_df['director'] = movie_df['director'].fillna('Unknown')\n",
    "movie_df['country'] = movie_df['country'].fillna('Unknown')\n",
    "movie_df['cast'] = movie_df['cast'].fillna('Unknown')\n",
    "movie_df['rating'] = movie_df['rating'].fillna('Unknown')\n",
    "movie_df['duration' ]= movie_df['duration'].fillna('Unknown')\n",
    "\n",
    "movie_df.info()"
   ]
  },
  {
   "cell_type": "markdown",
   "metadata": {},
   "source": [
    "### Save to processed.csv"
   ]
  },
  {
   "cell_type": "code",
   "execution_count": null,
   "metadata": {},
   "outputs": [],
   "source": [
    "movie_df.to_csv(\"../data/processed/data.csv\",sep = ',', encoding= 'utf-8', index=False) "
   ]
  }
 ],
 "metadata": {
  "kernelspec": {
   "display_name": "Python 3 (ipykernel)",
   "language": "python",
   "name": "python3"
  },
  "language_info": {
   "codemirror_mode": {
    "name": "ipython",
    "version": 3
   },
   "file_extension": ".py",
   "mimetype": "text/x-python",
   "name": "python",
   "nbconvert_exporter": "python",
   "pygments_lexer": "ipython3",
   "version": "3.9.18"
  }
 },
 "nbformat": 4,
 "nbformat_minor": 4
}
