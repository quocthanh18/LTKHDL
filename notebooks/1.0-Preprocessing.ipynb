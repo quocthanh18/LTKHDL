{
 "cells": [
  {
   "cell_type": "markdown",
   "metadata": {},
   "source": [
    "## Import"
   ]
  },
  {
   "cell_type": "code",
   "execution_count": 23,
   "metadata": {},
   "outputs": [],
   "source": [
    "import numpy as np\n",
    "import pandas as pd\n",
    "import matplotlib.pyplot as plt\n",
    "import seaborn as sns"
   ]
  },
  {
   "cell_type": "markdown",
   "metadata": {},
   "source": [
    "## Exploring data"
   ]
  },
  {
   "cell_type": "markdown",
   "metadata": {},
   "source": [
    "### Read raw data from file"
   ]
  },
  {
   "cell_type": "code",
   "execution_count": 24,
   "metadata": {},
   "outputs": [],
   "source": [
    "raw_df = pd.read_csv(\"../data/raw/data.csv\")"
   ]
  },
  {
   "cell_type": "code",
   "execution_count": 25,
   "metadata": {},
   "outputs": [
    {
     "data": {
      "text/html": [
       "<div>\n",
       "<style scoped>\n",
       "    .dataframe tbody tr th:only-of-type {\n",
       "        vertical-align: middle;\n",
       "    }\n",
       "\n",
       "    .dataframe tbody tr th {\n",
       "        vertical-align: top;\n",
       "    }\n",
       "\n",
       "    .dataframe thead th {\n",
       "        text-align: right;\n",
       "    }\n",
       "</style>\n",
       "<table border=\"1\" class=\"dataframe\">\n",
       "  <thead>\n",
       "    <tr style=\"text-align: right;\">\n",
       "      <th></th>\n",
       "      <th>show_id</th>\n",
       "      <th>type</th>\n",
       "      <th>title</th>\n",
       "      <th>director</th>\n",
       "      <th>cast</th>\n",
       "      <th>country</th>\n",
       "      <th>date_added</th>\n",
       "      <th>release_year</th>\n",
       "      <th>rating</th>\n",
       "      <th>duration</th>\n",
       "      <th>listed_in</th>\n",
       "      <th>description</th>\n",
       "    </tr>\n",
       "  </thead>\n",
       "  <tbody>\n",
       "    <tr>\n",
       "      <th>3891</th>\n",
       "      <td>s3892</td>\n",
       "      <td>Movie</td>\n",
       "      <td>ReMastered: Devil at the Crossroads</td>\n",
       "      <td>Brian Oakes</td>\n",
       "      <td>NaN</td>\n",
       "      <td>United States</td>\n",
       "      <td>April 26, 2019</td>\n",
       "      <td>2019</td>\n",
       "      <td>TV-14</td>\n",
       "      <td>49 min</td>\n",
       "      <td>Documentaries, Music &amp; Musicals</td>\n",
       "      <td>Cloaked in mystery, bluesman Robert Johnson le...</td>\n",
       "    </tr>\n",
       "    <tr>\n",
       "      <th>7421</th>\n",
       "      <td>s7422</td>\n",
       "      <td>Movie</td>\n",
       "      <td>Mater</td>\n",
       "      <td>Pablo D'Alo Abba</td>\n",
       "      <td>Lautaro Perotti, Tamara Kiper, Inda Lavalle, M...</td>\n",
       "      <td>Argentina</td>\n",
       "      <td>August 1, 2018</td>\n",
       "      <td>2017</td>\n",
       "      <td>TV-MA</td>\n",
       "      <td>80 min</td>\n",
       "      <td>Dramas, Independent Movies, International Movies</td>\n",
       "      <td>A single man in his 30s overwhelmed by his dom...</td>\n",
       "    </tr>\n",
       "    <tr>\n",
       "      <th>1137</th>\n",
       "      <td>s1138</td>\n",
       "      <td>Movie</td>\n",
       "      <td>The Knight and the Princess</td>\n",
       "      <td>Bashir El Deek</td>\n",
       "      <td>Sedky Sakhr, Hashem El Garhy, Shahira Kamal, A...</td>\n",
       "      <td>Egypt, Saudi Arabia</td>\n",
       "      <td>April 1, 2021</td>\n",
       "      <td>2019</td>\n",
       "      <td>TV-PG</td>\n",
       "      <td>96 min</td>\n",
       "      <td>Action &amp; Adventure, International Movies, Musi...</td>\n",
       "      <td>A fictional account of the heroic quests of a ...</td>\n",
       "    </tr>\n",
       "    <tr>\n",
       "      <th>8343</th>\n",
       "      <td>s8344</td>\n",
       "      <td>Movie</td>\n",
       "      <td>The Heroes of Evil</td>\n",
       "      <td>Zoe Berriatúa</td>\n",
       "      <td>Emilio Palacios, Jorge Clemente, Beatriz Medin...</td>\n",
       "      <td>Spain</td>\n",
       "      <td>June 1, 2016</td>\n",
       "      <td>2015</td>\n",
       "      <td>TV-MA</td>\n",
       "      <td>99 min</td>\n",
       "      <td>Dramas, International Movies</td>\n",
       "      <td>Three teenage misfits find camaraderie in sex,...</td>\n",
       "    </tr>\n",
       "    <tr>\n",
       "      <th>5970</th>\n",
       "      <td>s5971</td>\n",
       "      <td>Movie</td>\n",
       "      <td>​Mayurakshi</td>\n",
       "      <td>Atanu Ghosh</td>\n",
       "      <td>Soumitra Chatterjee, Prasenjit Chatterjee, Ind...</td>\n",
       "      <td>India</td>\n",
       "      <td>September 15, 2018</td>\n",
       "      <td>2017</td>\n",
       "      <td>TV-14</td>\n",
       "      <td>100 min</td>\n",
       "      <td>Dramas, International Movies</td>\n",
       "      <td>When a middle-aged divorcee returns to Kolkata...</td>\n",
       "    </tr>\n",
       "  </tbody>\n",
       "</table>\n",
       "</div>"
      ],
      "text/plain": [
       "     show_id   type                                title          director  \\\n",
       "3891   s3892  Movie  ReMastered: Devil at the Crossroads       Brian Oakes   \n",
       "7421   s7422  Movie                                Mater  Pablo D'Alo Abba   \n",
       "1137   s1138  Movie          The Knight and the Princess    Bashir El Deek   \n",
       "8343   s8344  Movie                   The Heroes of Evil     Zoe Berriatúa   \n",
       "5970   s5971  Movie                          ​Mayurakshi       Atanu Ghosh   \n",
       "\n",
       "                                                   cast              country  \\\n",
       "3891                                                NaN        United States   \n",
       "7421  Lautaro Perotti, Tamara Kiper, Inda Lavalle, M...            Argentina   \n",
       "1137  Sedky Sakhr, Hashem El Garhy, Shahira Kamal, A...  Egypt, Saudi Arabia   \n",
       "8343  Emilio Palacios, Jorge Clemente, Beatriz Medin...                Spain   \n",
       "5970  Soumitra Chatterjee, Prasenjit Chatterjee, Ind...                India   \n",
       "\n",
       "              date_added  release_year rating duration  \\\n",
       "3891      April 26, 2019          2019  TV-14   49 min   \n",
       "7421      August 1, 2018          2017  TV-MA   80 min   \n",
       "1137       April 1, 2021          2019  TV-PG   96 min   \n",
       "8343        June 1, 2016          2015  TV-MA   99 min   \n",
       "5970  September 15, 2018          2017  TV-14  100 min   \n",
       "\n",
       "                                              listed_in  \\\n",
       "3891                    Documentaries, Music & Musicals   \n",
       "7421   Dramas, Independent Movies, International Movies   \n",
       "1137  Action & Adventure, International Movies, Musi...   \n",
       "8343                       Dramas, International Movies   \n",
       "5970                       Dramas, International Movies   \n",
       "\n",
       "                                            description  \n",
       "3891  Cloaked in mystery, bluesman Robert Johnson le...  \n",
       "7421  A single man in his 30s overwhelmed by his dom...  \n",
       "1137  A fictional account of the heroic quests of a ...  \n",
       "8343  Three teenage misfits find camaraderie in sex,...  \n",
       "5970  When a middle-aged divorcee returns to Kolkata...  "
      ]
     },
     "execution_count": 25,
     "metadata": {},
     "output_type": "execute_result"
    }
   ],
   "source": [
    "raw_df.sample(5)"
   ]
  },
  {
   "cell_type": "markdown",
   "metadata": {},
   "source": [
    "### How many rows and how many columns does the raw data have?"
   ]
  },
  {
   "cell_type": "code",
   "execution_count": 27,
   "metadata": {},
   "outputs": [
    {
     "name": "stdout",
     "output_type": "stream",
     "text": [
      "Data has 8807 rows and 12 columns\n"
     ]
    }
   ],
   "source": [
    "shape = raw_df.shape\n",
    "print(f\"Data has {shape[0]} rows and {shape[1]} columns\")"
   ]
  },
  {
   "cell_type": "markdown",
   "metadata": {},
   "source": [
    "### What is the meaning of each row?"
   ]
  },
  {
   "cell_type": "markdown",
   "metadata": {},
   "source": [
    "Each row represents information about a movie/ tv show on Netflix from 2008 to mid 2021."
   ]
  },
  {
   "cell_type": "markdown",
   "metadata": {},
   "source": [
    "### Are there duplicated rows?"
   ]
  },
  {
   "cell_type": "code",
   "execution_count": 29,
   "metadata": {},
   "outputs": [
    {
     "name": "stdout",
     "output_type": "stream",
     "text": [
      "Number of duplicate rows: 0\n"
     ]
    }
   ],
   "source": [
    "unique_rows = raw_df.drop_duplicates().shape[0] - shape[0]\n",
    "print(f'Number of duplicate rows: {unique_rows}')"
   ]
  },
  {
   "cell_type": "markdown",
   "metadata": {},
   "source": [
    "### What is the meaning of each column?"
   ]
  },
  {
   "cell_type": "markdown",
   "metadata": {},
   "source": [
    "| Column Name | Description |\n",
    "| --- | --- |\n",
    "| show_id | Unique ID for each movie/ tv show |\n",
    "| type | Type of the movie/ tv show (Movie or TV Show) |\n",
    "| title | Title of the movie/ tv show |\n",
    "| director | Director of the movie/ tv show |\n",
    "| cast | Cast of the movie/ tv show |\n",
    "| country | Country where the movie/ tv show was produced |\n",
    "| date_added | Date when the movie/ tv show was added to Netflix |\n",
    "| release_year | Year when the movie/ tv show was released |\n",
    "| rating | Rating of the movie/ tv show |\n",
    "| duration | Duration of the movie/ tv show |\n",
    "| listed_in | Genre of the movie/ tv show |\n",
    "| description | Description of the movie/ tv show |"
   ]
  },
  {
   "cell_type": "markdown",
   "metadata": {},
   "source": [
    "### What is the current data type of each column? Are there columns having inappropriate data types?\n"
   ]
  },
  {
   "cell_type": "code",
   "execution_count": 30,
   "metadata": {},
   "outputs": [
    {
     "name": "stdout",
     "output_type": "stream",
     "text": [
      "<class 'pandas.core.frame.DataFrame'>\n",
      "RangeIndex: 8807 entries, 0 to 8806\n",
      "Data columns (total 12 columns):\n",
      " #   Column        Non-Null Count  Dtype \n",
      "---  ------        --------------  ----- \n",
      " 0   show_id       8807 non-null   object\n",
      " 1   type          8807 non-null   object\n",
      " 2   title         8807 non-null   object\n",
      " 3   director      6173 non-null   object\n",
      " 4   cast          7982 non-null   object\n",
      " 5   country       7976 non-null   object\n",
      " 6   date_added    8797 non-null   object\n",
      " 7   release_year  8807 non-null   int64 \n",
      " 8   rating        8803 non-null   object\n",
      " 9   duration      8804 non-null   object\n",
      " 10  listed_in     8807 non-null   object\n",
      " 11  description   8807 non-null   object\n",
      "dtypes: int64(1), object(11)\n",
      "memory usage: 825.8+ KB\n"
     ]
    }
   ],
   "source": [
    "raw_df.info()"
   ]
  },
  {
   "cell_type": "markdown",
   "metadata": {},
   "source": [
    "### With each numerical column, how are values distributed?"
   ]
  },
  {
   "cell_type": "code",
   "execution_count": null,
   "metadata": {},
   "outputs": [],
   "source": []
  },
  {
   "cell_type": "markdown",
   "metadata": {},
   "source": [
    "### With each categorical column, how are values distributed?"
   ]
  },
  {
   "cell_type": "code",
   "execution_count": null,
   "metadata": {},
   "outputs": [],
   "source": []
  },
  {
   "cell_type": "code",
   "execution_count": null,
   "metadata": {},
   "outputs": [],
   "source": []
  }
 ],
 "metadata": {
  "kernelspec": {
   "display_name": "Python 3",
   "language": "python",
   "name": "python3"
  },
  "language_info": {
   "codemirror_mode": {
    "name": "ipython",
    "version": 3
   },
   "file_extension": ".py",
   "mimetype": "text/x-python",
   "name": "python",
   "nbconvert_exporter": "python",
   "pygments_lexer": "ipython3",
   "version": "3.11.4"
  }
 },
 "nbformat": 4,
 "nbformat_minor": 2
}
