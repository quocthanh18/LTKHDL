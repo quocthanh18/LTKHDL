{
 "cells": [
  {
   "cell_type": "markdown",
   "metadata": {},
   "source": [
    "## Import"
   ]
  },
  {
   "cell_type": "code",
   "execution_count": 6,
   "metadata": {},
   "outputs": [],
   "source": [
    "import numpy as np\n",
    "import matplotlib.pyplot as plt\n",
    "import pandas as pd\n",
    "import seaborn as sns"
   ]
  },
  {
   "cell_type": "markdown",
   "metadata": {},
   "source": [
    "## Exploring data"
   ]
  },
  {
   "cell_type": "markdown",
   "metadata": {},
   "source": [
    "### Read cleaned data from file"
   ]
  },
  {
   "cell_type": "code",
   "execution_count": 7,
   "metadata": {},
   "outputs": [
    {
     "data": {
      "text/html": [
       "<div>\n",
       "<style scoped>\n",
       "    .dataframe tbody tr th:only-of-type {\n",
       "        vertical-align: middle;\n",
       "    }\n",
       "\n",
       "    .dataframe tbody tr th {\n",
       "        vertical-align: top;\n",
       "    }\n",
       "\n",
       "    .dataframe thead th {\n",
       "        text-align: right;\n",
       "    }\n",
       "</style>\n",
       "<table border=\"1\" class=\"dataframe\">\n",
       "  <thead>\n",
       "    <tr style=\"text-align: right;\">\n",
       "      <th></th>\n",
       "      <th>type</th>\n",
       "      <th>title</th>\n",
       "      <th>director</th>\n",
       "      <th>cast</th>\n",
       "      <th>country</th>\n",
       "      <th>date_added</th>\n",
       "      <th>release_year</th>\n",
       "      <th>rating</th>\n",
       "      <th>duration</th>\n",
       "      <th>listed_in</th>\n",
       "      <th>year_added</th>\n",
       "      <th>month_added</th>\n",
       "    </tr>\n",
       "  </thead>\n",
       "  <tbody>\n",
       "    <tr>\n",
       "      <th>4445</th>\n",
       "      <td>Movie</td>\n",
       "      <td>Kai Po Che!</td>\n",
       "      <td>Abhishek Kapoor</td>\n",
       "      <td>Rajkummar Rao, Amit Sadh, Sushant Singh Rajput...</td>\n",
       "      <td>India</td>\n",
       "      <td>2018-11-01</td>\n",
       "      <td>2013</td>\n",
       "      <td>TV-MA</td>\n",
       "      <td>120 min</td>\n",
       "      <td>Dramas, International Movies, Sports Movies</td>\n",
       "      <td>2018</td>\n",
       "      <td>11</td>\n",
       "    </tr>\n",
       "    <tr>\n",
       "      <th>5565</th>\n",
       "      <td>Movie</td>\n",
       "      <td>Deidra &amp; Laney Rob a Train</td>\n",
       "      <td>Sydney Freeland</td>\n",
       "      <td>Rachel Crow, Ashleigh Murray, Sasheer Zamata, ...</td>\n",
       "      <td>United States</td>\n",
       "      <td>2017-03-17</td>\n",
       "      <td>2017</td>\n",
       "      <td>TV-14</td>\n",
       "      <td>92 min</td>\n",
       "      <td>Comedies, Dramas, Independent Movies</td>\n",
       "      <td>2017</td>\n",
       "      <td>3</td>\n",
       "    </tr>\n",
       "    <tr>\n",
       "      <th>6575</th>\n",
       "      <td>Movie</td>\n",
       "      <td>De Palma</td>\n",
       "      <td>Noah Baumbach, Jake Paltrow</td>\n",
       "      <td>Brian De Palma</td>\n",
       "      <td>United States</td>\n",
       "      <td>2018-11-21</td>\n",
       "      <td>2015</td>\n",
       "      <td>R</td>\n",
       "      <td>110 min</td>\n",
       "      <td>Documentaries</td>\n",
       "      <td>2018</td>\n",
       "      <td>11</td>\n",
       "    </tr>\n",
       "    <tr>\n",
       "      <th>8328</th>\n",
       "      <td>Movie</td>\n",
       "      <td>The Gospel of Mark</td>\n",
       "      <td>David Batty</td>\n",
       "      <td>Selva Rasalingam, Mourad Zaoui, El Mahmoudi M'...</td>\n",
       "      <td>USA</td>\n",
       "      <td>2018-10-19</td>\n",
       "      <td>2015</td>\n",
       "      <td>TV-14</td>\n",
       "      <td>123 min</td>\n",
       "      <td>Dramas, Faith &amp; Spirituality</td>\n",
       "      <td>2018</td>\n",
       "      <td>10</td>\n",
       "    </tr>\n",
       "    <tr>\n",
       "      <th>6039</th>\n",
       "      <td>Movie</td>\n",
       "      <td>A Haunted House</td>\n",
       "      <td>Michael Tiddes</td>\n",
       "      <td>Marlon Wayans, Essence Atkins, Cedric the Ente...</td>\n",
       "      <td>United States</td>\n",
       "      <td>2020-02-21</td>\n",
       "      <td>2013</td>\n",
       "      <td>R</td>\n",
       "      <td>86 min</td>\n",
       "      <td>Comedies, Horror Movies</td>\n",
       "      <td>2020</td>\n",
       "      <td>2</td>\n",
       "    </tr>\n",
       "  </tbody>\n",
       "</table>\n",
       "</div>"
      ],
      "text/plain": [
       "       type                       title                     director  \\\n",
       "4445  Movie                 Kai Po Che!              Abhishek Kapoor   \n",
       "5565  Movie  Deidra & Laney Rob a Train              Sydney Freeland   \n",
       "6575  Movie                    De Palma  Noah Baumbach, Jake Paltrow   \n",
       "8328  Movie          The Gospel of Mark                  David Batty   \n",
       "6039  Movie             A Haunted House               Michael Tiddes   \n",
       "\n",
       "                                                   cast        country  \\\n",
       "4445  Rajkummar Rao, Amit Sadh, Sushant Singh Rajput...          India   \n",
       "5565  Rachel Crow, Ashleigh Murray, Sasheer Zamata, ...  United States   \n",
       "6575                                     Brian De Palma  United States   \n",
       "8328  Selva Rasalingam, Mourad Zaoui, El Mahmoudi M'...            USA   \n",
       "6039  Marlon Wayans, Essence Atkins, Cedric the Ente...  United States   \n",
       "\n",
       "      date_added  release_year rating duration  \\\n",
       "4445  2018-11-01          2013  TV-MA  120 min   \n",
       "5565  2017-03-17          2017  TV-14   92 min   \n",
       "6575  2018-11-21          2015      R  110 min   \n",
       "8328  2018-10-19          2015  TV-14  123 min   \n",
       "6039  2020-02-21          2013      R   86 min   \n",
       "\n",
       "                                        listed_in  year_added  month_added  \n",
       "4445  Dramas, International Movies, Sports Movies        2018           11  \n",
       "5565         Comedies, Dramas, Independent Movies        2017            3  \n",
       "6575                                Documentaries        2018           11  \n",
       "8328                 Dramas, Faith & Spirituality        2018           10  \n",
       "6039                      Comedies, Horror Movies        2020            2  "
      ]
     },
     "execution_count": 7,
     "metadata": {},
     "output_type": "execute_result"
    }
   ],
   "source": [
    "df = pd.read_csv('../data/processed/data.csv', index_col=0)\n",
    "df.sample(5)"
   ]
  },
  {
   "cell_type": "markdown",
   "metadata": {},
   "source": [
    "### Question 1:"
   ]
  },
  {
   "cell_type": "code",
   "execution_count": null,
   "metadata": {},
   "outputs": [],
   "source": []
  },
  {
   "cell_type": "code",
   "execution_count": null,
   "metadata": {},
   "outputs": [],
   "source": []
  },
  {
   "cell_type": "markdown",
   "metadata": {},
   "source": [
    "### Question 2:"
   ]
  },
  {
   "cell_type": "code",
   "execution_count": null,
   "metadata": {},
   "outputs": [],
   "source": []
  },
  {
   "cell_type": "code",
   "execution_count": null,
   "metadata": {},
   "outputs": [],
   "source": []
  }
 ],
 "metadata": {
  "kernelspec": {
   "display_name": "Python 3",
   "language": "python",
   "name": "python3"
  },
  "language_info": {
   "codemirror_mode": {
    "name": "ipython",
    "version": 3
   },
   "file_extension": ".py",
   "mimetype": "text/x-python",
   "name": "python",
   "nbconvert_exporter": "python",
   "pygments_lexer": "ipython3",
   "version": "3.11.4"
  }
 },
 "nbformat": 4,
 "nbformat_minor": 2
}
