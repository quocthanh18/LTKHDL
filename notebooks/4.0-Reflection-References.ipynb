{
 "cells": [
  {
   "cell_type": "markdown",
   "metadata": {},
   "source": [
    "## Reflection"
   ]
  },
  {
   "cell_type": "markdown",
   "metadata": {},
   "source": [
    "### What difficulties have you encountered?"
   ]
  },
  {
   "cell_type": "markdown",
   "metadata": {},
   "source": [
    "Finding the right question to ask."
   ]
  },
  {
   "cell_type": "markdown",
   "metadata": {},
   "source": [
    "Dealing with frustration that the raw dataset does not have enough information to answer the question."
   ]
  },
  {
   "cell_type": "markdown",
   "metadata": {},
   "source": [
    "Choosing the right plot to visualize the data."
   ]
  },
  {
   "cell_type": "markdown",
   "metadata": {},
   "source": [
    "### What have you learned?"
   ]
  },
  {
   "cell_type": "markdown",
   "metadata": {},
   "source": [
    "New cool libraries like `wordcloud`, `missingno` (although I didn't use it in the end), `seaborn`, `MultipleLabelBinarizer` ( for one-hot encoding columns with multiple labels)."
   ]
  },
  {
   "cell_type": "markdown",
   "metadata": {},
   "source": [
    "New ways to handle a problem like using `groupby`, `explode`, "
   ]
  },
  {
   "cell_type": "markdown",
   "metadata": {},
   "source": [
    "###  If you had more time, what would you do?"
   ]
  },
  {
   "cell_type": "markdown",
   "metadata": {},
   "source": [
    "I would add more questions to answer since there are so many interesting questions to ask. I would also try to find more datasets to combine with this one to get more information."
   ]
  },
  {
   "cell_type": "markdown",
   "metadata": {},
   "source": [
    "## References"
   ]
  },
  {
   "cell_type": "markdown",
   "metadata": {},
   "source": [
    "### To finish this project, what materials have you consulted?"
   ]
  },
  {
   "cell_type": "markdown",
   "metadata": {},
   "source": [
    "1. [Netflix Shows and Movies - Exploratory Analysis](https://www.kaggle.com/code/shivamb/netflix-shows-and-movies-exploratory-analysis/notebook)\n",
    "2. [Netflix EDA : with Netflix Style!](https://www.kaggle.com/code/jeongbinpark/netflix-eda-with-netflix-style/notebook)\n",
    "3. [WordCloud](https://www.datacamp.com/tutorial/wordcloud-python)\n",
    "4. [Web Scraping](https://jovian.com/jeanbaeez/web-scraping-tmdb)\n",
    "5. [TMDB API](https://developers.themoviedb.org/3/getting-started/introduction)"
   ]
  }
 ],
 "metadata": {
  "language_info": {
   "name": "python"
  }
 },
 "nbformat": 4,
 "nbformat_minor": 2
}
